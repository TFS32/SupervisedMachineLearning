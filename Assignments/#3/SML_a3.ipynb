{
 "cells": [
  {
   "cell_type": "code",
   "execution_count": 1,
   "id": "5f248100",
   "metadata": {},
   "outputs": [],
   "source": [
    "from matplotlib import pyplot as plt\n",
    "import turicreate as tc\n",
    "import pandas as pd\n",
    "import numpy as np"
   ]
  },
  {
   "cell_type": "markdown",
   "id": "5a56fdbf",
   "metadata": {},
   "source": [
    "## False positive or false negative: assuming that we want the zeros, and they are working, here we want to minimize the false positive, predicted as 1, but 0, because they are not working, but seen as working. In this case we need to mantain precision, so beta stays near 0 (we chose 0.07 for the Fb Score). "
   ]
  },
  {
   "cell_type": "code",
   "execution_count": 2,
   "id": "9f608f47",
   "metadata": {},
   "outputs": [
    {
     "data": {
      "text/html": [
       "<pre>Finished parsing file /home/tferreirasaraiva/Documents/SupervisedMachineLearning/manning-master/Chapter_5_Perceptron_Algorithm/0382949_data.csv</pre>"
      ],
      "text/plain": [
       "Finished parsing file /home/tferreirasaraiva/Documents/SupervisedMachineLearning/manning-master/Chapter_5_Perceptron_Algorithm/0382949_data.csv"
      ]
     },
     "metadata": {},
     "output_type": "display_data"
    },
    {
     "name": "stdout",
     "output_type": "stream",
     "text": [
      "------------------------------------------------------\n",
      "Inferred types from first 100 line(s) of file as \n",
      "column_type_hints=[int,float,float,float]\n",
      "If parsing fails due to incorrect types, you can correct\n",
      "the inferred type list above and pass it to read_csv in\n",
      "the column_type_hints argument\n",
      "------------------------------------------------------\n"
     ]
    },
    {
     "data": {
      "text/html": [
       "<pre>Parsing completed. Parsed 100 lines in 0.025919 secs.</pre>"
      ],
      "text/plain": [
       "Parsing completed. Parsed 100 lines in 0.025919 secs."
      ]
     },
     "metadata": {},
     "output_type": "display_data"
    },
    {
     "data": {
      "text/html": [
       "<pre>Finished parsing file /home/tferreirasaraiva/Documents/SupervisedMachineLearning/manning-master/Chapter_5_Perceptron_Algorithm/0382949_data.csv</pre>"
      ],
      "text/plain": [
       "Finished parsing file /home/tferreirasaraiva/Documents/SupervisedMachineLearning/manning-master/Chapter_5_Perceptron_Algorithm/0382949_data.csv"
      ]
     },
     "metadata": {},
     "output_type": "display_data"
    },
    {
     "data": {
      "text/html": [
       "<pre>Parsing completed. Parsed 1000 lines in 0.079876 secs.</pre>"
      ],
      "text/plain": [
       "Parsing completed. Parsed 1000 lines in 0.079876 secs."
      ]
     },
     "metadata": {},
     "output_type": "display_data"
    },
    {
     "data": {
      "text/html": [
       "<div style=\"max-height:1000px;max-width:1500px;overflow:auto;\"><table frame=\"box\" rules=\"cols\">\n",
       "    <tr>\n",
       "        <th style=\"padding-left: 1em; padding-right: 1em; text-align: center\">Condition</th>\n",
       "        <th style=\"padding-left: 1em; padding-right: 1em; text-align: center\">Voltage</th>\n",
       "        <th style=\"padding-left: 1em; padding-right: 1em; text-align: center\">Current</th>\n",
       "        <th style=\"padding-left: 1em; padding-right: 1em; text-align: center\">Temperature</th>\n",
       "    </tr>\n",
       "    <tr>\n",
       "        <td style=\"padding-left: 1em; padding-right: 1em; text-align: center; vertical-align: top\">1</td>\n",
       "        <td style=\"padding-left: 1em; padding-right: 1em; text-align: center; vertical-align: top\">102.4441126133345</td>\n",
       "        <td style=\"padding-left: 1em; padding-right: 1em; text-align: center; vertical-align: top\">489.164512034988</td>\n",
       "        <td style=\"padding-left: 1em; padding-right: 1em; text-align: center; vertical-align: top\">60.49123260389594</td>\n",
       "    </tr>\n",
       "    <tr>\n",
       "        <td style=\"padding-left: 1em; padding-right: 1em; text-align: center; vertical-align: top\">1</td>\n",
       "        <td style=\"padding-left: 1em; padding-right: 1em; text-align: center; vertical-align: top\">103.47024648368676</td>\n",
       "        <td style=\"padding-left: 1em; padding-right: 1em; text-align: center; vertical-align: top\">481.6396167938656</td>\n",
       "        <td style=\"padding-left: 1em; padding-right: 1em; text-align: center; vertical-align: top\">35.32103669668187</td>\n",
       "    </tr>\n",
       "    <tr>\n",
       "        <td style=\"padding-left: 1em; padding-right: 1em; text-align: center; vertical-align: top\">1</td>\n",
       "        <td style=\"padding-left: 1em; padding-right: 1em; text-align: center; vertical-align: top\">103.4647267620901</td>\n",
       "        <td style=\"padding-left: 1em; padding-right: 1em; text-align: center; vertical-align: top\">486.8053511626812</td>\n",
       "        <td style=\"padding-left: 1em; padding-right: 1em; text-align: center; vertical-align: top\">31.452368871757493</td>\n",
       "    </tr>\n",
       "    <tr>\n",
       "        <td style=\"padding-left: 1em; padding-right: 1em; text-align: center; vertical-align: top\">1</td>\n",
       "        <td style=\"padding-left: 1em; padding-right: 1em; text-align: center; vertical-align: top\">103.70083848416236</td>\n",
       "        <td style=\"padding-left: 1em; padding-right: 1em; text-align: center; vertical-align: top\">482.2591346937867</td>\n",
       "        <td style=\"padding-left: 1em; padding-right: 1em; text-align: center; vertical-align: top\">48.500953745029875</td>\n",
       "    </tr>\n",
       "    <tr>\n",
       "        <td style=\"padding-left: 1em; padding-right: 1em; text-align: center; vertical-align: top\">1</td>\n",
       "        <td style=\"padding-left: 1em; padding-right: 1em; text-align: center; vertical-align: top\">103.29952272898116</td>\n",
       "        <td style=\"padding-left: 1em; padding-right: 1em; text-align: center; vertical-align: top\">486.6640754212922</td>\n",
       "        <td style=\"padding-left: 1em; padding-right: 1em; text-align: center; vertical-align: top\">61.61425058460568</td>\n",
       "    </tr>\n",
       "    <tr>\n",
       "        <td style=\"padding-left: 1em; padding-right: 1em; text-align: center; vertical-align: top\">1</td>\n",
       "        <td style=\"padding-left: 1em; padding-right: 1em; text-align: center; vertical-align: top\">101.98279161829043</td>\n",
       "        <td style=\"padding-left: 1em; padding-right: 1em; text-align: center; vertical-align: top\">488.6468046742295</td>\n",
       "        <td style=\"padding-left: 1em; padding-right: 1em; text-align: center; vertical-align: top\">47.8043705344421</td>\n",
       "    </tr>\n",
       "    <tr>\n",
       "        <td style=\"padding-left: 1em; padding-right: 1em; text-align: center; vertical-align: top\">1</td>\n",
       "        <td style=\"padding-left: 1em; padding-right: 1em; text-align: center; vertical-align: top\">103.1069981966328</td>\n",
       "        <td style=\"padding-left: 1em; padding-right: 1em; text-align: center; vertical-align: top\">482.3743872525397</td>\n",
       "        <td style=\"padding-left: 1em; padding-right: 1em; text-align: center; vertical-align: top\">34.192342307064635</td>\n",
       "    </tr>\n",
       "    <tr>\n",
       "        <td style=\"padding-left: 1em; padding-right: 1em; text-align: center; vertical-align: top\">1</td>\n",
       "        <td style=\"padding-left: 1em; padding-right: 1em; text-align: center; vertical-align: top\">103.29212407453647</td>\n",
       "        <td style=\"padding-left: 1em; padding-right: 1em; text-align: center; vertical-align: top\">486.0067979741111</td>\n",
       "        <td style=\"padding-left: 1em; padding-right: 1em; text-align: center; vertical-align: top\">58.244213361641656</td>\n",
       "    </tr>\n",
       "    <tr>\n",
       "        <td style=\"padding-left: 1em; padding-right: 1em; text-align: center; vertical-align: top\">0</td>\n",
       "        <td style=\"padding-left: 1em; padding-right: 1em; text-align: center; vertical-align: top\">100.0699377253576</td>\n",
       "        <td style=\"padding-left: 1em; padding-right: 1em; text-align: center; vertical-align: top\">480.97700676303214</td>\n",
       "        <td style=\"padding-left: 1em; padding-right: 1em; text-align: center; vertical-align: top\">57.42543634764111</td>\n",
       "    </tr>\n",
       "    <tr>\n",
       "        <td style=\"padding-left: 1em; padding-right: 1em; text-align: center; vertical-align: top\">1</td>\n",
       "        <td style=\"padding-left: 1em; padding-right: 1em; text-align: center; vertical-align: top\">102.55515084540993</td>\n",
       "        <td style=\"padding-left: 1em; padding-right: 1em; text-align: center; vertical-align: top\">484.4324437254198</td>\n",
       "        <td style=\"padding-left: 1em; padding-right: 1em; text-align: center; vertical-align: top\">41.60329776520041</td>\n",
       "    </tr>\n",
       "</table>\n",
       "[1000 rows x 4 columns]<br/>Note: Only the head of the SFrame is printed.<br/>You can use print_rows(num_rows=m, num_columns=n) to print more rows and columns.\n",
       "</div>"
      ],
      "text/plain": [
       "Columns:\n",
       "\tCondition\tint\n",
       "\tVoltage\tfloat\n",
       "\tCurrent\tfloat\n",
       "\tTemperature\tfloat\n",
       "\n",
       "Rows: 1000\n",
       "\n",
       "Data:\n",
       "+-----------+--------------------+--------------------+--------------------+\n",
       "| Condition |      Voltage       |      Current       |    Temperature     |\n",
       "+-----------+--------------------+--------------------+--------------------+\n",
       "|     1     | 102.4441126133345  |  489.164512034988  | 60.49123260389594  |\n",
       "|     1     | 103.47024648368676 | 481.6396167938656  | 35.32103669668187  |\n",
       "|     1     | 103.4647267620901  | 486.8053511626812  | 31.452368871757493 |\n",
       "|     1     | 103.70083848416236 | 482.2591346937867  | 48.500953745029875 |\n",
       "|     1     | 103.29952272898116 | 486.6640754212922  | 61.61425058460568  |\n",
       "|     1     | 101.98279161829043 | 488.6468046742295  |  47.8043705344421  |\n",
       "|     1     | 103.1069981966328  | 482.3743872525397  | 34.192342307064635 |\n",
       "|     1     | 103.29212407453647 | 486.0067979741111  | 58.244213361641656 |\n",
       "|     0     | 100.0699377253576  | 480.97700676303214 | 57.42543634764111  |\n",
       "|     1     | 102.55515084540993 | 484.4324437254198  | 41.60329776520041  |\n",
       "+-----------+--------------------+--------------------+--------------------+\n",
       "[1000 rows x 4 columns]\n",
       "Note: Only the head of the SFrame is printed.\n",
       "You can use print_rows(num_rows=m, num_columns=n) to print more rows and columns."
      ]
     },
     "execution_count": 2,
     "metadata": {},
     "output_type": "execute_result"
    }
   ],
   "source": [
    "# Naming data variable and getting the data from CSV file in a TuriCreate SFrame data structure\n",
    "data = tc.SFrame('0382949_data.csv')\n",
    "# Printing dataset\n",
    "data"
   ]
  },
  {
   "cell_type": "markdown",
   "id": "c8c37843",
   "metadata": {},
   "source": [
    "**The below line shows how the original dataset is parted into two parts:**\n",
    "\n",
    "_1. Train_Data contains approximately 80% of the data_\n",
    "\n",
    "\n",
    "_Rest_data contains the remaining 20% of the data_\n",
    "\n",
    "_2. The Test_Data holds 50% of the remaining data (10% the original data)_\n",
    "\n",
    "\n",
    "_Validation_Data also contains the other 50% of the remaining data (10% of the original data)_\n",
    "\n",
    "\n",
    "_Meanwhile, the random split is done with the same seed value (0) for consistency._"
   ]
  },
  {
   "cell_type": "code",
   "execution_count": 3,
   "id": "31c8740d",
   "metadata": {
    "scrolled": true
   },
   "outputs": [],
   "source": [
    "train_data, rest_data = data.random_split(0.8, seed=0)\n",
    "test_data, validation_data = rest_data.random_split(0.5, seed=0)"
   ]
  },
  {
   "cell_type": "markdown",
   "id": "e35ca60b",
   "metadata": {},
   "source": [
    "### By default feature rescaling is set to True , so the coefficients are rescaled (normalized) given, avoiding features with large values to influence the model."
   ]
  },
  {
   "cell_type": "markdown",
   "id": "05d1eb75",
   "metadata": {},
   "source": [
    "On this line our code initialize to predict the condition based on features in the dataset and the validation set helps assess its performance.\n",
    "\n",
    "It has three components. Thus:\n",
    "\n",
    "data, from the csv file\n",
    "\n",
    "target, setting 'Condition' column as label, and the other columns become features\n",
    "\n",
    "validation_set, we splitted so there is no risk that training and validation datasets interferes on test dataset\n",
    "\n",
    "The model also estimates class probabilities using a logistic function (sigmoid)\n"
   ]
  },
  {
   "cell_type": "code",
   "execution_count": 4,
   "id": "4121df95",
   "metadata": {},
   "outputs": [
    {
     "data": {
      "text/html": [
       "<pre>Logistic regression:</pre>"
      ],
      "text/plain": [
       "Logistic regression:"
      ]
     },
     "metadata": {},
     "output_type": "display_data"
    },
    {
     "data": {
      "text/html": [
       "<pre>--------------------------------------------------------</pre>"
      ],
      "text/plain": [
       "--------------------------------------------------------"
      ]
     },
     "metadata": {},
     "output_type": "display_data"
    },
    {
     "data": {
      "text/html": [
       "<pre>Number of examples          : 1000</pre>"
      ],
      "text/plain": [
       "Number of examples          : 1000"
      ]
     },
     "metadata": {},
     "output_type": "display_data"
    },
    {
     "data": {
      "text/html": [
       "<pre>Number of classes           : 2</pre>"
      ],
      "text/plain": [
       "Number of classes           : 2"
      ]
     },
     "metadata": {},
     "output_type": "display_data"
    },
    {
     "data": {
      "text/html": [
       "<pre>Number of feature columns   : 3</pre>"
      ],
      "text/plain": [
       "Number of feature columns   : 3"
      ]
     },
     "metadata": {},
     "output_type": "display_data"
    },
    {
     "data": {
      "text/html": [
       "<pre>Number of unpacked features : 3</pre>"
      ],
      "text/plain": [
       "Number of unpacked features : 3"
      ]
     },
     "metadata": {},
     "output_type": "display_data"
    },
    {
     "data": {
      "text/html": [
       "<pre>Number of coefficients      : 4</pre>"
      ],
      "text/plain": [
       "Number of coefficients      : 4"
      ]
     },
     "metadata": {},
     "output_type": "display_data"
    },
    {
     "data": {
      "text/html": [
       "<pre>Starting Newton Method</pre>"
      ],
      "text/plain": [
       "Starting Newton Method"
      ]
     },
     "metadata": {},
     "output_type": "display_data"
    },
    {
     "data": {
      "text/html": [
       "<pre>--------------------------------------------------------</pre>"
      ],
      "text/plain": [
       "--------------------------------------------------------"
      ]
     },
     "metadata": {},
     "output_type": "display_data"
    },
    {
     "data": {
      "text/html": [
       "<pre>+-----------+----------+--------------+-------------------+---------------------+</pre>"
      ],
      "text/plain": [
       "+-----------+----------+--------------+-------------------+---------------------+"
      ]
     },
     "metadata": {},
     "output_type": "display_data"
    },
    {
     "data": {
      "text/html": [
       "<pre>| Iteration | Passes   | Elapsed Time | Training Accuracy | Validation Accuracy |</pre>"
      ],
      "text/plain": [
       "| Iteration | Passes   | Elapsed Time | Training Accuracy | Validation Accuracy |"
      ]
     },
     "metadata": {},
     "output_type": "display_data"
    },
    {
     "data": {
      "text/html": [
       "<pre>+-----------+----------+--------------+-------------------+---------------------+</pre>"
      ],
      "text/plain": [
       "+-----------+----------+--------------+-------------------+---------------------+"
      ]
     },
     "metadata": {},
     "output_type": "display_data"
    },
    {
     "data": {
      "text/html": [
       "<pre>| 1         | 2        | 1.004095     | 0.892000          | 0.912621            |</pre>"
      ],
      "text/plain": [
       "| 1         | 2        | 1.004095     | 0.892000          | 0.912621            |"
      ]
     },
     "metadata": {},
     "output_type": "display_data"
    },
    {
     "data": {
      "text/html": [
       "<pre>| 2         | 3        | 1.009633     | 0.892000          | 0.912621            |</pre>"
      ],
      "text/plain": [
       "| 2         | 3        | 1.009633     | 0.892000          | 0.912621            |"
      ]
     },
     "metadata": {},
     "output_type": "display_data"
    },
    {
     "data": {
      "text/html": [
       "<pre>| 3         | 4        | 1.013378     | 0.892000          | 0.912621            |</pre>"
      ],
      "text/plain": [
       "| 3         | 4        | 1.013378     | 0.892000          | 0.912621            |"
      ]
     },
     "metadata": {},
     "output_type": "display_data"
    },
    {
     "data": {
      "text/html": [
       "<pre>| 4         | 5        | 1.019691     | 0.892000          | 0.912621            |</pre>"
      ],
      "text/plain": [
       "| 4         | 5        | 1.019691     | 0.892000          | 0.912621            |"
      ]
     },
     "metadata": {},
     "output_type": "display_data"
    },
    {
     "data": {
      "text/html": [
       "<pre>+-----------+----------+--------------+-------------------+---------------------+</pre>"
      ],
      "text/plain": [
       "+-----------+----------+--------------+-------------------+---------------------+"
      ]
     },
     "metadata": {},
     "output_type": "display_data"
    },
    {
     "data": {
      "text/html": [
       "<pre>SUCCESS: Optimal solution found.</pre>"
      ],
      "text/plain": [
       "SUCCESS: Optimal solution found."
      ]
     },
     "metadata": {},
     "output_type": "display_data"
    },
    {
     "data": {
      "text/html": [
       "<pre></pre>"
      ],
      "text/plain": []
     },
     "metadata": {},
     "output_type": "display_data"
    }
   ],
   "source": [
    "perceptron = tc.logistic_classifier.create(data, target='Condition', validation_set=validation_data)"
   ]
  },
  {
   "cell_type": "markdown",
   "id": "b8a24111",
   "metadata": {},
   "source": [
    "For the second perceptron, we tried to test some hyperparameters values, specifying L1 and L2 penalties and disabling feature rescaling."
   ]
  },
  {
   "cell_type": "code",
   "execution_count": 5,
   "id": "13e31aaf",
   "metadata": {},
   "outputs": [
    {
     "data": {
      "text/html": [
       "<pre>Logistic regression:</pre>"
      ],
      "text/plain": [
       "Logistic regression:"
      ]
     },
     "metadata": {},
     "output_type": "display_data"
    },
    {
     "data": {
      "text/html": [
       "<pre>--------------------------------------------------------</pre>"
      ],
      "text/plain": [
       "--------------------------------------------------------"
      ]
     },
     "metadata": {},
     "output_type": "display_data"
    },
    {
     "data": {
      "text/html": [
       "<pre>Number of examples          : 1000</pre>"
      ],
      "text/plain": [
       "Number of examples          : 1000"
      ]
     },
     "metadata": {},
     "output_type": "display_data"
    },
    {
     "data": {
      "text/html": [
       "<pre>Number of classes           : 2</pre>"
      ],
      "text/plain": [
       "Number of classes           : 2"
      ]
     },
     "metadata": {},
     "output_type": "display_data"
    },
    {
     "data": {
      "text/html": [
       "<pre>Number of feature columns   : 3</pre>"
      ],
      "text/plain": [
       "Number of feature columns   : 3"
      ]
     },
     "metadata": {},
     "output_type": "display_data"
    },
    {
     "data": {
      "text/html": [
       "<pre>Number of unpacked features : 3</pre>"
      ],
      "text/plain": [
       "Number of unpacked features : 3"
      ]
     },
     "metadata": {},
     "output_type": "display_data"
    },
    {
     "data": {
      "text/html": [
       "<pre>Number of coefficients      : 4</pre>"
      ],
      "text/plain": [
       "Number of coefficients      : 4"
      ]
     },
     "metadata": {},
     "output_type": "display_data"
    },
    {
     "data": {
      "text/html": [
       "<pre>Starting Accelerated Gradient (FISTA)</pre>"
      ],
      "text/plain": [
       "Starting Accelerated Gradient (FISTA)"
      ]
     },
     "metadata": {},
     "output_type": "display_data"
    },
    {
     "data": {
      "text/html": [
       "<pre>--------------------------------------------------------</pre>"
      ],
      "text/plain": [
       "--------------------------------------------------------"
      ]
     },
     "metadata": {},
     "output_type": "display_data"
    },
    {
     "data": {
      "text/html": [
       "<pre>Tuning step size. First iteration could take longer than subsequent iterations.</pre>"
      ],
      "text/plain": [
       "Tuning step size. First iteration could take longer than subsequent iterations."
      ]
     },
     "metadata": {},
     "output_type": "display_data"
    },
    {
     "data": {
      "text/html": [
       "<pre>+-----------+----------+-----------+--------------+-------------------+---------------------+</pre>"
      ],
      "text/plain": [
       "+-----------+----------+-----------+--------------+-------------------+---------------------+"
      ]
     },
     "metadata": {},
     "output_type": "display_data"
    },
    {
     "data": {
      "text/html": [
       "<pre>| Iteration | Passes   | Step size | Elapsed Time | Training Accuracy | Validation Accuracy |</pre>"
      ],
      "text/plain": [
       "| Iteration | Passes   | Step size | Elapsed Time | Training Accuracy | Validation Accuracy |"
      ]
     },
     "metadata": {},
     "output_type": "display_data"
    },
    {
     "data": {
      "text/html": [
       "<pre>+-----------+----------+-----------+--------------+-------------------+---------------------+</pre>"
      ],
      "text/plain": [
       "+-----------+----------+-----------+--------------+-------------------+---------------------+"
      ]
     },
     "metadata": {},
     "output_type": "display_data"
    },
    {
     "data": {
      "text/html": [
       "<pre>| 0         | 1        | 1.000000  | 0.012885     | 0.486000          | 0.427184            |</pre>"
      ],
      "text/plain": [
       "| 0         | 1        | 1.000000  | 0.012885     | 0.486000          | 0.427184            |"
      ]
     },
     "metadata": {},
     "output_type": "display_data"
    },
    {
     "data": {
      "text/html": [
       "<pre>| 1         | 2        | 0.000000  | 0.677243     | 0.514000          | 0.572816            |</pre>"
      ],
      "text/plain": [
       "| 1         | 2        | 0.000000  | 0.677243     | 0.514000          | 0.572816            |"
      ]
     },
     "metadata": {},
     "output_type": "display_data"
    },
    {
     "data": {
      "text/html": [
       "<pre>+-----------+----------+-----------+--------------+-------------------+---------------------+</pre>"
      ],
      "text/plain": [
       "+-----------+----------+-----------+--------------+-------------------+---------------------+"
      ]
     },
     "metadata": {},
     "output_type": "display_data"
    },
    {
     "data": {
      "text/html": [
       "<pre>SUCCESS: Optimal solution found.</pre>"
      ],
      "text/plain": [
       "SUCCESS: Optimal solution found."
      ]
     },
     "metadata": {},
     "output_type": "display_data"
    },
    {
     "data": {
      "text/html": [
       "<pre></pre>"
      ],
      "text/plain": []
     },
     "metadata": {},
     "output_type": "display_data"
    }
   ],
   "source": [
    "perceptron_hyper = tc.logistic_classifier.create(data, target='Condition', validation_set=validation_data,\n",
    "                                                 feature_rescaling=False, l1_penalty=0.01, l2_penalty=1,\n",
    "                                                )"
   ]
  },
  {
   "cell_type": "markdown",
   "id": "0b5c8701",
   "metadata": {},
   "source": [
    "**We use this lines of code to assess how well the Perceptron model performs on both the training and validation datasets by calculating their respective accuracies.**\n",
    "We set two variables, train and validation accuracy, then got the perceptron model and used evaluate function from TuriCreate. Then we selected from the function to get the accuracy from the train data and validation data."
   ]
  },
  {
   "cell_type": "code",
   "execution_count": 6,
   "id": "3479ab41",
   "metadata": {
    "scrolled": true
   },
   "outputs": [
    {
     "name": "stdout",
     "output_type": "stream",
     "text": [
      "Training accuracy for Perceptron model: 0.8946047678795483\n",
      "Validation accuracy for Perceptron model: 0.912621359223301\n"
     ]
    }
   ],
   "source": [
    "train_accuracy = perceptron.evaluate(train_data)['accuracy']\n",
    "validation_accuracy = perceptron.evaluate(validation_data)['accuracy']\n",
    "print(\"Training accuracy for Perceptron model:\", train_accuracy)\n",
    "print(\"Validation accuracy for Perceptron model:\", validation_accuracy)"
   ]
  },
  {
   "cell_type": "markdown",
   "id": "2e23cda4",
   "metadata": {},
   "source": [
    "The same as above but for the perceptron hyper model."
   ]
  },
  {
   "cell_type": "code",
   "execution_count": 7,
   "id": "b1e29779",
   "metadata": {},
   "outputs": [
    {
     "name": "stdout",
     "output_type": "stream",
     "text": [
      "Training accuracy for Hyper Perceptron: 0.506900878293601\n",
      "Validation accuracy for Hyper Perceptron: 0.5728155339805825\n"
     ]
    }
   ],
   "source": [
    "train_accuracy = perceptron_hyper.evaluate(train_data)['accuracy']\n",
    "validation_accuracy = perceptron_hyper.evaluate(validation_data)['accuracy']\n",
    "print(\"Training accuracy for Hyper Perceptron:\", train_accuracy)\n",
    "print(\"Validation accuracy for Hyper Perceptron:\", validation_accuracy)"
   ]
  },
  {
   "cell_type": "markdown",
   "id": "9e74e970",
   "metadata": {},
   "source": [
    "## Original Perceptron Confusion Matrix"
   ]
  },
  {
   "cell_type": "markdown",
   "id": "028e3479",
   "metadata": {},
   "source": [
    "**By examining the confusion matrix, one can understand where the model is making errors and how it's performing in terms of correctly classifying instances.**\n",
    "We set a variable confusion matrix, evaluated with evaluate function from TuriCreate, with validation data we got the confusion matrix"
   ]
  },
  {
   "cell_type": "code",
   "execution_count": 8,
   "id": "2bd66182",
   "metadata": {
    "scrolled": true
   },
   "outputs": [
    {
     "name": "stdout",
     "output_type": "stream",
     "text": [
      "+--------------+-----------------+-------+\n",
      "| target_label | predicted_label | count |\n",
      "+--------------+-----------------+-------+\n",
      "|      0       |        1        |   8   |\n",
      "|      1       |        1        |   43  |\n",
      "|      0       |        0        |   51  |\n",
      "|      1       |        0        |   1   |\n",
      "+--------------+-----------------+-------+\n",
      "[4 rows x 3 columns]\n",
      "\n"
     ]
    }
   ],
   "source": [
    "confusion_matrix = perceptron.evaluate(validation_data)['confusion_matrix']\n",
    "print(confusion_matrix)"
   ]
  },
  {
   "cell_type": "markdown",
   "id": "3703f88b",
   "metadata": {},
   "source": [
    "### Perceptron Hyper Confusion Matrix"
   ]
  },
  {
   "cell_type": "markdown",
   "id": "6fbc3ac9",
   "metadata": {},
   "source": [
    "Same as above, for the perceptron hyper model"
   ]
  },
  {
   "cell_type": "code",
   "execution_count": 9,
   "id": "84f08295",
   "metadata": {},
   "outputs": [
    {
     "name": "stdout",
     "output_type": "stream",
     "text": [
      "+--------------+-----------------+-------+\n",
      "| target_label | predicted_label | count |\n",
      "+--------------+-----------------+-------+\n",
      "|      0       |        0        |   59  |\n",
      "|      1       |        0        |   44  |\n",
      "+--------------+-----------------+-------+\n",
      "[2 rows x 3 columns]\n",
      "\n"
     ]
    }
   ],
   "source": [
    "confusion_matrix = perceptron_hyper.evaluate(validation_data)['confusion_matrix']\n",
    "print(confusion_matrix)"
   ]
  },
  {
   "cell_type": "markdown",
   "id": "fea34e7e",
   "metadata": {},
   "source": [
    "**By calculating Precision and Recall, we can evaluate how well the perceptron model performs in terms of both the accuracy of positive predictions and its ability to identify positive instances in the data.**  \n",
    "We name the perceptron evalute as model, from them we get the precision and recall"
   ]
  },
  {
   "cell_type": "code",
   "execution_count": 10,
   "id": "f507a545",
   "metadata": {},
   "outputs": [
    {
     "name": "stdout",
     "output_type": "stream",
     "text": [
      "precision: 0.878\n",
      "recall: 0.9032921810699589\n"
     ]
    }
   ],
   "source": [
    "model = perceptron.evaluate(data)\n",
    "precision = model['precision']\n",
    "recall = model['recall']\n",
    "print('precision:', precision)\n",
    "print('recall:', recall)"
   ]
  },
  {
   "cell_type": "markdown",
   "id": "4658df82",
   "metadata": {},
   "source": [
    "**This line of code calculates the Fb-score using the values of precision and recall, with b as a constant.**\n",
    "\n",
    "**The Fb-score is a measure of a model's accuracy that considers both the precision and recall of the model.**\n",
    "\n",
    "We set the value of beta, then we calculate with the formula, using the variables we got from the TuriCreate classifier"
   ]
  },
  {
   "cell_type": "code",
   "execution_count": 11,
   "id": "b7df6f4d",
   "metadata": {},
   "outputs": [
    {
     "data": {
      "text/plain": [
       "0.8781198905851211"
      ]
     },
     "execution_count": 11,
     "metadata": {},
     "output_type": "execute_result"
    }
   ],
   "source": [
    "b = 0.07\n",
    "f = (1 + b**2) * (precision * recall) / ((b**2 * precision) + recall)\n",
    "f"
   ]
  },
  {
   "cell_type": "markdown",
   "id": "b32f42f6",
   "metadata": {},
   "source": [
    "Same code to get the precsion and recall, for the perceptron hyper model"
   ]
  },
  {
   "cell_type": "code",
   "execution_count": 12,
   "id": "21fc64e4",
   "metadata": {},
   "outputs": [
    {
     "name": "stdout",
     "output_type": "stream",
     "text": [
      "precision: None\n",
      "recall: 0.0\n"
     ]
    }
   ],
   "source": [
    "model_hyper = perceptron_hyper.evaluate(data)\n",
    "precision_hyper = model_hyper['precision']\n",
    "recall_hyper = model_hyper['recall']\n",
    "print('precision:', precision_hyper)\n",
    "print('recall:', recall_hyper)"
   ]
  },
  {
   "cell_type": "markdown",
   "id": "ad19bbb9",
   "metadata": {},
   "source": [
    "Same as above for the perceptron hyper we got the Fbeta Score"
   ]
  },
  {
   "cell_type": "code",
   "execution_count": 13,
   "id": "c65a7d5d",
   "metadata": {},
   "outputs": [
    {
     "name": "stdout",
     "output_type": "stream",
     "text": [
      "precision or recall are equal 0\n"
     ]
    }
   ],
   "source": [
    "b = 0.07\n",
    "if precision_hyper or recall_hyper != 0:\n",
    "    f = (1 + b**2) * (precision_hyper * recall_hyper) / ((b**2 * precision_hyper) + recall_hyper)\n",
    "else:\n",
    "    print(\"precision or recall are equal 0\")"
   ]
  },
  {
   "cell_type": "markdown",
   "id": "4193d90d",
   "metadata": {},
   "source": [
    "### The perceptron model works fine, within default hyperparameters. When hyperparameters changes manually we have negative results. There are three available solvers: Newton-Raphson, LBFGS and Fista, within the data set the one that works better is the Newton, because we have few features and a reasonable amount of data. Limited memory BFGS works good for a wide dataset, which is not the case, and Fista is good for a L1 regularization, meaning that if you have a lot of features, it will get the most important features, as we only have 3 features, this is not worthful. If we compare accuracy, precision and recall, we can see that the second model do not get precision or recall, as it didn't learn from the data, and the confusion matrix shows that in the model_hyper was not possible to get true positives and false negatives."
   ]
  },
  {
   "cell_type": "markdown",
   "id": "09547669",
   "metadata": {},
   "source": [
    "**Evaluating the model on this data helps assess how well it generalizes to new, unseen examples. Accuracy, in this context, measures the proportion of correctly classified instances in the test dataset.**  \n",
    "With test accuracy variable we use evaluate function on the test data to get its accuracy"
   ]
  },
  {
   "cell_type": "code",
   "execution_count": 14,
   "id": "94c13d91",
   "metadata": {},
   "outputs": [
    {
     "name": "stdout",
     "output_type": "stream",
     "text": [
      "Test accuracy: 0.85\n"
     ]
    }
   ],
   "source": [
    "test_accuracy = perceptron.evaluate(test_data)['accuracy']\n",
    "print(\"Test accuracy:\", test_accuracy)"
   ]
  },
  {
   "cell_type": "markdown",
   "id": "2dbf3e27",
   "metadata": {},
   "source": [
    "**Confusion matrix, can understand where the model is making errors and how it's performing in terms of correctly classifying instances.**  \n",
    "Setting a confusion matrix variable, getting the confusion matrix from the evaluate function"
   ]
  },
  {
   "cell_type": "code",
   "execution_count": 15,
   "id": "016aec4a",
   "metadata": {},
   "outputs": [
    {
     "name": "stdout",
     "output_type": "stream",
     "text": [
      "+--------------+-----------------+-------+\n",
      "| target_label | predicted_label | count |\n",
      "+--------------+-----------------+-------+\n",
      "|      1       |        1        |   44  |\n",
      "|      0       |        1        |   10  |\n",
      "|      1       |        0        |   5   |\n",
      "|      0       |        0        |   41  |\n",
      "+--------------+-----------------+-------+\n",
      "[4 rows x 3 columns]\n",
      "\n"
     ]
    }
   ],
   "source": [
    "confusion_matrix_test = perceptron.evaluate(test_data)['confusion_matrix']\n",
    "print(confusion_matrix_test)"
   ]
  },
  {
   "cell_type": "markdown",
   "id": "510f0518",
   "metadata": {},
   "source": [
    "Repeating steps that were made above, but instead of using training or validation data, we are getting the test data, to compare our model"
   ]
  },
  {
   "cell_type": "code",
   "execution_count": 16,
   "id": "4cf079e7",
   "metadata": {},
   "outputs": [
    {
     "name": "stdout",
     "output_type": "stream",
     "text": [
      "Precision: 0.8148148148148148\n",
      "Recall: 0.8979591836734694\n"
     ]
    }
   ],
   "source": [
    "test_model = perceptron.evaluate(test_data)\n",
    "test_precision = test_model['precision']\n",
    "test_recall = test_model['recall']\n",
    "print('Precision:', test_precision)\n",
    "print('Recall:', test_recall)"
   ]
  },
  {
   "cell_type": "markdown",
   "id": "bae5b46b",
   "metadata": {},
   "source": [
    "Calculating the Fbeta Score, within the test data"
   ]
  },
  {
   "cell_type": "code",
   "execution_count": 17,
   "id": "e3ed7532",
   "metadata": {},
   "outputs": [
    {
     "data": {
      "text/plain": [
       "0.8151828628634533"
      ]
     },
     "execution_count": 17,
     "metadata": {},
     "output_type": "execute_result"
    }
   ],
   "source": [
    "b = 0.07\n",
    "f = (1 + b**2) * (test_precision * test_recall) / ((b**2 * test_precision) + test_recall)\n",
    "f"
   ]
  },
  {
   "cell_type": "code",
   "execution_count": null,
   "id": "f9bf29fc",
   "metadata": {},
   "outputs": [],
   "source": []
  }
 ],
 "metadata": {
  "kernelspec": {
   "display_name": "Python 3 (ipykernel)",
   "language": "python",
   "name": "python3"
  },
  "language_info": {
   "codemirror_mode": {
    "name": "ipython",
    "version": 3
   },
   "file_extension": ".py",
   "mimetype": "text/x-python",
   "name": "python",
   "nbconvert_exporter": "python",
   "pygments_lexer": "ipython3",
   "version": "3.7.17"
  }
 },
 "nbformat": 4,
 "nbformat_minor": 5
}
