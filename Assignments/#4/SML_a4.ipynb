{
 "cells": [
  {
   "cell_type": "code",
   "execution_count": 1,
   "id": "41ef93e6",
   "metadata": {},
   "outputs": [],
   "source": [
    "import turicreate as tc\n",
    "import utils\n",
    "import re\n",
    "import pandas as pd\n",
    "from matplotlib import pyplot as plt"
   ]
  },
  {
   "cell_type": "markdown",
   "id": "52c980d2",
   "metadata": {},
   "source": [
    "### Thinking about this sentiment analysis both are bad, because they have same value as an error, we only can value which one is worse if we put something to do with it. For example, if we want to automatically show in a blog only the positive evaluations about a movie, then the false positives are worse, because there will be negative evaluations in our blog that were predicted as positive. In this case we want to have a high sensitivity, giving recall more importance, then the value of &beta; must be greater than 1, for the sake of this work, let's use 10."
   ]
  },
  {
   "cell_type": "code",
   "execution_count": 2,
   "id": "28c3e38f",
   "metadata": {},
   "outputs": [
    {
     "data": {
      "text/html": [
       "<pre>Finished parsing file /home/tferreirasaraiva/Documents/SupervisedMachineLearning/manning-master/Chapter_6_Logistic_Regression/IMDB_Dataset.csv</pre>"
      ],
      "text/plain": [
       "Finished parsing file /home/tferreirasaraiva/Documents/SupervisedMachineLearning/manning-master/Chapter_6_Logistic_Regression/IMDB_Dataset.csv"
      ]
     },
     "metadata": {},
     "output_type": "display_data"
    },
    {
     "data": {
      "text/html": [
       "<pre>Parsing completed. Parsed 100 lines in 0.338911 secs.</pre>"
      ],
      "text/plain": [
       "Parsing completed. Parsed 100 lines in 0.338911 secs."
      ]
     },
     "metadata": {},
     "output_type": "display_data"
    },
    {
     "name": "stdout",
     "output_type": "stream",
     "text": [
      "------------------------------------------------------\n",
      "Inferred types from first 100 line(s) of file as \n",
      "column_type_hints=[str,str]\n",
      "If parsing fails due to incorrect types, you can correct\n",
      "the inferred type list above and pass it to read_csv in\n",
      "the column_type_hints argument\n",
      "------------------------------------------------------\n"
     ]
    },
    {
     "data": {
      "text/html": [
       "<pre>Read 39624 lines. Lines per second: 103492</pre>"
      ],
      "text/plain": [
       "Read 39624 lines. Lines per second: 103492"
      ]
     },
     "metadata": {},
     "output_type": "display_data"
    },
    {
     "data": {
      "text/html": [
       "<pre>Finished parsing file /home/tferreirasaraiva/Documents/SupervisedMachineLearning/manning-master/Chapter_6_Logistic_Regression/IMDB_Dataset.csv</pre>"
      ],
      "text/plain": [
       "Finished parsing file /home/tferreirasaraiva/Documents/SupervisedMachineLearning/manning-master/Chapter_6_Logistic_Regression/IMDB_Dataset.csv"
      ]
     },
     "metadata": {},
     "output_type": "display_data"
    },
    {
     "data": {
      "text/html": [
       "<pre>Parsing completed. Parsed 50000 lines in 0.436552 secs.</pre>"
      ],
      "text/plain": [
       "Parsing completed. Parsed 50000 lines in 0.436552 secs."
      ]
     },
     "metadata": {},
     "output_type": "display_data"
    },
    {
     "data": {
      "text/html": [
       "<div style=\"max-height:1000px;max-width:1500px;overflow:auto;\"><table frame=\"box\" rules=\"cols\">\n",
       "    <tr>\n",
       "        <th style=\"padding-left: 1em; padding-right: 1em; text-align: center\">review</th>\n",
       "        <th style=\"padding-left: 1em; padding-right: 1em; text-align: center\">sentiment</th>\n",
       "    </tr>\n",
       "    <tr>\n",
       "        <td style=\"padding-left: 1em; padding-right: 1em; text-align: center; vertical-align: top\">One of the other<br>reviewers has mentioned ...</td>\n",
       "        <td style=\"padding-left: 1em; padding-right: 1em; text-align: center; vertical-align: top\">positive</td>\n",
       "    </tr>\n",
       "    <tr>\n",
       "        <td style=\"padding-left: 1em; padding-right: 1em; text-align: center; vertical-align: top\">A wonderful little<br>production. &lt;br /&gt;&lt;br ...</td>\n",
       "        <td style=\"padding-left: 1em; padding-right: 1em; text-align: center; vertical-align: top\">positive</td>\n",
       "    </tr>\n",
       "    <tr>\n",
       "        <td style=\"padding-left: 1em; padding-right: 1em; text-align: center; vertical-align: top\">I thought this was a<br>wonderful way to spend ...</td>\n",
       "        <td style=\"padding-left: 1em; padding-right: 1em; text-align: center; vertical-align: top\">positive</td>\n",
       "    </tr>\n",
       "    <tr>\n",
       "        <td style=\"padding-left: 1em; padding-right: 1em; text-align: center; vertical-align: top\">Basically there&#x27;s a<br>family where a little ...</td>\n",
       "        <td style=\"padding-left: 1em; padding-right: 1em; text-align: center; vertical-align: top\">negative</td>\n",
       "    </tr>\n",
       "    <tr>\n",
       "        <td style=\"padding-left: 1em; padding-right: 1em; text-align: center; vertical-align: top\">Petter Mattei&#x27;s &quot;Love in<br>the Time of Money&quot; is a ...</td>\n",
       "        <td style=\"padding-left: 1em; padding-right: 1em; text-align: center; vertical-align: top\">positive</td>\n",
       "    </tr>\n",
       "    <tr>\n",
       "        <td style=\"padding-left: 1em; padding-right: 1em; text-align: center; vertical-align: top\">Probably my all-time<br>favorite movie, a story ...</td>\n",
       "        <td style=\"padding-left: 1em; padding-right: 1em; text-align: center; vertical-align: top\">positive</td>\n",
       "    </tr>\n",
       "    <tr>\n",
       "        <td style=\"padding-left: 1em; padding-right: 1em; text-align: center; vertical-align: top\">I sure would like to see<br>a resurrection of a up ...</td>\n",
       "        <td style=\"padding-left: 1em; padding-right: 1em; text-align: center; vertical-align: top\">positive</td>\n",
       "    </tr>\n",
       "    <tr>\n",
       "        <td style=\"padding-left: 1em; padding-right: 1em; text-align: center; vertical-align: top\">This show was an amazing,<br>fresh &amp; innovative idea ...</td>\n",
       "        <td style=\"padding-left: 1em; padding-right: 1em; text-align: center; vertical-align: top\">negative</td>\n",
       "    </tr>\n",
       "    <tr>\n",
       "        <td style=\"padding-left: 1em; padding-right: 1em; text-align: center; vertical-align: top\">Encouraged by the<br>positive comments about ...</td>\n",
       "        <td style=\"padding-left: 1em; padding-right: 1em; text-align: center; vertical-align: top\">negative</td>\n",
       "    </tr>\n",
       "    <tr>\n",
       "        <td style=\"padding-left: 1em; padding-right: 1em; text-align: center; vertical-align: top\">If you like original gut<br>wrenching laughter you ...</td>\n",
       "        <td style=\"padding-left: 1em; padding-right: 1em; text-align: center; vertical-align: top\">positive</td>\n",
       "    </tr>\n",
       "</table>\n",
       "[50000 rows x 2 columns]<br/>Note: Only the head of the SFrame is printed.<br/>You can use print_rows(num_rows=m, num_columns=n) to print more rows and columns.\n",
       "</div>"
      ],
      "text/plain": [
       "Columns:\n",
       "\treview\tstr\n",
       "\tsentiment\tstr\n",
       "\n",
       "Rows: 50000\n",
       "\n",
       "Data:\n",
       "+-------------------------------+-----------+\n",
       "|             review            | sentiment |\n",
       "+-------------------------------+-----------+\n",
       "| One of the other reviewers... |  positive |\n",
       "| A wonderful little product... |  positive |\n",
       "| I thought this was a wonde... |  positive |\n",
       "| Basically there's a family... |  negative |\n",
       "| Petter Mattei's \"Love in t... |  positive |\n",
       "| Probably my all-time favor... |  positive |\n",
       "| I sure would like to see a... |  positive |\n",
       "| This show was an amazing, ... |  negative |\n",
       "| Encouraged by the positive... |  negative |\n",
       "| If you like original gut w... |  positive |\n",
       "+-------------------------------+-----------+\n",
       "[50000 rows x 2 columns]\n",
       "Note: Only the head of the SFrame is printed.\n",
       "You can use print_rows(num_rows=m, num_columns=n) to print more rows and columns."
      ]
     },
     "execution_count": 2,
     "metadata": {},
     "output_type": "execute_result"
    }
   ],
   "source": [
    "# Transforming data set IMDB csv file in TuriCreate SFrame data\n",
    "movies_sframe = tc.SFrame('./IMDB_Dataset.csv')\n",
    "movies_sframe"
   ]
  },
  {
   "cell_type": "code",
   "execution_count": 3,
   "id": "6b1bd0ed",
   "metadata": {},
   "outputs": [],
   "source": [
    "# Function used to clean the text\n",
    "def clean_text(text):\n",
    "    \"\"\"\n",
    "    function to clean a text using regex removing HTML tags, numbers, backslashs,\n",
    "    punctuation, finding white spaces and replacing them with only one white space,\n",
    "    removing words with one and two characters, and some common words that won't \n",
    "    make much impact in the sentiment analysis.\n",
    "    \"\"\"\n",
    "    \n",
    "    # Lowering every word in the text\n",
    "    text = text.lower()\n",
    "    # Creating a list of common stop words in english\n",
    "    stopwords = [\n",
    "                 'that', 'this', 'with', 'than', 'the', 'and', 'for', 'are'\n",
    "                 'you', 'her', 'our', 'his', 'was', 'from', 'they', 'there'\n",
    "                ]\n",
    "    # Iterating over each word then excluding stop words that matchs the list\n",
    "    for words in stopwords:\n",
    "        text = re.sub('\\\\b' + words + '\\\\b', '', text)\n",
    "    # Excluding HTML tags    \n",
    "    text = re.sub('<.*>', '', text)\n",
    "    # Removing numbers\n",
    "    text = re.sub('\\d', '', text)\n",
    "    # Removing backslashs\n",
    "    text = re.sub('\\\\\\\\', '', text)\n",
    "    # Removing words with only two characters\n",
    "    text = re.sub('\\\\b\\w{1,2}\\\\b', '', text)\n",
    "    # Removing punctuation\n",
    "    text = re.sub('[^\\w^\\s\\n]', '', text)\n",
    "    # Removing extra white spaces\n",
    "    text = re.sub('\\s+', ' ', text)\n",
    "    \n",
    "    # Returning the text that was cleaned\n",
    "    return text"
   ]
  },
  {
   "cell_type": "code",
   "execution_count": 4,
   "id": "f3d26f57",
   "metadata": {},
   "outputs": [],
   "source": [
    "# Getting the reviews from the data frame, then applying a function to clean word by word in the review column\n",
    "movies_sframe['review'] = movies_sframe.apply(lambda x: clean_text(x['review']))"
   ]
  },
  {
   "cell_type": "code",
   "execution_count": 5,
   "id": "71666b5e",
   "metadata": {},
   "outputs": [
    {
     "data": {
      "text/plain": [
       "dtype: str\n",
       "Rows: 50000\n",
       "['one other reviewers has mentioned after watching just episode you hooked are right exactly what happened would say main appeal show due fact goes where other shows wouldn dare forget pretty pictures painted mainstream audiences forget charm forget romance doesn mess around first episode ever saw struck nasty surreal couldn say ready but watched more developed taste got accustomed high levels graphic violence not just violence but injustice crooked guards who sold out nickel inmates who kill order get away well mannered middle class inmates being turned into prison bitches due their lack street skills prison experience watching you may become comfortable what uncomfortable viewingthats you can get touch your darker side', ' wonderful little production realism really comes home little things fantasy guard which rather use traditional dream techniques remains solid then disappears plays knowledge senses particularly scenes concerning orton halliwell sets particularly their flat halliwell murals decorating every surface are terribly well done', ' thought wonderful way spend time too hot summer weekend sitting air conditioned theater watching lighthearted comedy plot simplistic but dialogue witty characters are likable even well bread suspected serial killer while some may disappointed when realize not match point risk addiction thought proof woody allen still fully control style many have grown love may not crown jewel career but wittier devil wears prada more interesting superman great comedy see friends', 'basically family where little boy jake thinks zombie closet parents are fighting all time out just well playing parents descent dialogs shots jake just ignore them', 'petter mattei love time money visually stunning film watch mattei offers vivid portrait about human relations movie seems telling what money power success people different situations encounter wish mattei good luck await anxiously next work', 'probably alltime favorite movie story selflessness sacrifice dedication noble cause but not preachy boring just never gets old despite having seen some more times last years paul lukas performance brings tears eyes bette davis one very few truly sympathetic roles delight kids are grandma says more like dressed midgets children but only makes them more fun watch mother slow awakening what happening world under own roof believable startling had dozen thumbs all movie', ' sure would like see resurrection dated seahunt series tech have today would bring back kid excitement grew black white seahunt gunsmoke were hero every weekyou have vote comeback new sea hunt need change pace would work world under water adventure way thank you outlet like view many viewpoints about many movies any ole way believe got what wanna saywould nice read some more plus points about sea hunt rhymes would lines would you let submit leave out doubt have quit then must lets ', ' show amazing fresh innovative idea when first aired first years were brilliant but things dropped off after show not really funny anymore continued its decline further complete waste time today truly disgraceful how far show has fallen writing painfully bad performances are almost bad not mildly entertaining respite guesthosts show probably wouldn still air find hard believe same creator handselected original cast also chose band hacks followed how can one recognize such brilliance then see fit replace such mediocrity felt must give stars out respect original cast made show such huge success now show just awful can believe still air', 'encouraged positive comments about film here looking forward watching film bad mistake seen films truly one worst them awful almost every way editing pacing storyline acting soundtrack film only song lame country tune played less four times film looks cheap nasty boring extreme rarely have been happy see end credits film only thing prevents giving score harvey keitel while far best performance least seems making bit effort one keitel obsessives only', ' you like original gut wrenching laughter you will like movie you are young old then you will love movie hell even mom liked great camp', 'phil alien one those quirky films where humour based around oddness everything rather actual punchlines something similar but better try brother another planet', ' saw movie when about when came out recall scariest scene big bird eating men dangling helplessly parachutes right out air horror horrorbut about year later saw psycho when came out loved star janet leigh bumped off early film sat took notice point since screenwriters are making story make scary possible not wellworn formula are rules', ' not big fan boll work but then again not many are enjoyed movie postal maybe only one boll apparently bought rights use far cry long ago even before game itself even finsished are some things worth mentioning would imply boll did good work some areas film such some nice boat fighting scenes until whole cromedalbino gms squad enters scene everything just makes laugh movie far cry reeks scheisse poop you simpletons you wanna take wiff ahead btw carver gets very annoying sidekick who makes you wanna shoot him first three minutes screen', ' cast played shakespeare have more write but have write least ten lines text english composition never forte will just have keep going say movie saying goes just does not cut ', ' fantastic movie three prisoners who become famous one actors george clooney not fan but roll not bad another good thing about movie soundtrack man constant sorrow recommand movie everybody greetings bart', 'kind drawn erotic scenes only realize one most amateurish unbelievable bits film ever seen sort like high school film project what rosanna arquette thinking what all those stock characters bizarre supposed midwest town pretty hard get involved one lessons learned brilliant insights just stilted quite ridiculous but lots skin intrigues you videotaped nonsensewhat bisexual relationship out nowhere after all heterosexual encounters what absurd dance everybody playing their stereotyped roles give one pass like million other miles bad wasted film money could have been spent starving children aids africa', 'some films just simply should not remade one them itself not bad film but fails capture flavor terror film same title liam neeson excellent always most cast holds exception owen wilson who just did not bring right feel character luke but major fault version strayed too far shirley jackson story attempts grandiose lost some thrill earlier film trade off snazzier special effects again will say itself not bad film but you will enjoy friction terror older version much more', ' movie made into one top most awful movies horrible just awful real disappointment say least save your money', ' remember film first film had watched cinema picture dark places very nervous back dad took brother sister newbury cinema newbury berkshire england recall tigers lots snow film also appearance grizzly adams actor dan haggery think one tigers gets shot dies anyone knows where find dvd etc please let know cinema now has been turned fitness club which very big shame nearest cinema now miles away would love hear others who have seen film any other like ', ' awful film must have been against some real stinkers nominated golden globe taken story first famous female renaissance painter mangled beyond recognition complaint not taken liberties facts story were good would perfectly fine but simply bizarre all accounts true story artist would have made far better film why did come dishwaterdull script suppose weren enough naked people factual version hurriedly capped off end summary artist life could have saved ourselves couple hours favored rest film same brevity', 'after success die hard sequels surprise really glut die hard movies cashed wrong guy wrong place wrong time concept what did cliffhanger die hard mountain just time rescue sly stop mom will shoot stallone career forget your better judgement who cares could never happen lower your acting expectations turn volume enjoy you looking qaulen one wearing helicopter', ' had terrible misfortune having view movie entiretyeven some most ridiculous movies will still give you some laughs but just too painful watch', 'what absolutely stunning movie you have hrs kill watch you won regret too much fun rajnikanth carries movie shoulders although isn anything more other him still liked music rehman takes time grow you but after you heard few times you really start liking ', 'first all let get few things straight here anime fan always has been matter fact used watch speed racer all time preschool like several movies because hilarious like godzilla movies lotaccording grading scale means pretty much both boring bad fun counting three unless you find way make fun then will become fun counting ', ' worst movie saw worldfest also received least amount applause afterwards can only think receiving such recognition based amount known actors film great see beals but she only movie few minutes parker much better actress part allowed rest acting hard judge because movie ridiculous predictable main character totally unsympathetic therefore bore watch real emotional depth story movie revolving about actor who can get work doesn feel very original nor does development cop feels like one many straightvideo movies saw back not even good one those standards', ' karen carpenter story shows little more about singer karen carpenter complex life though fails giving accurate facts details has great songs which could have been included soundtrack album unfortunately weren though movie top ratings usa other several countries', ' cell exotic masterpiece dizzying trip into not only vast mind serial killer but also into one very talented director conclusive evidence what can achieved human beings unleash their uninhibited imaginations boldness work pushing aside thoughts fall into formulas cliches creating something truly magnificent best movie year date out ', ' film tried too many things all once stinging political satire hollywood blockbuster sappy romantic comedy family values promo list goes failed miserably all them but enough interest keep turning off until end critique made about corporatization war but poking fun way diminishes true atrocity what happening reminds bit three kings which similarly trivializes genuine cause concern', ' movie frustrating everything seemed energetic totally prepared have good time least thought able stand but wrong first weird looping like watching america funniest home videos damn parents hated them much stereotypical latino family need speak person responsible need have talk little girl who always hanging someone just hated had mention now final scene transcends must say gloriously bad full badness movie its own what crappy dancing horrible beautiful once', 'war movie hollywood genre has been done redone many times clichéd dialogue rehashed plot overtop action sequences seem unavoidable any conflict dealing largescale combat once while however war movie comes along goes against grain brings truly original compelling story life silver screen civil warera cold mountain starring jude law nicole kidman renée zellweger such filmmake mistake cold mountain has neither traits feelgood romance nor inspiring war drama unique vision era sure not only entertain but also truly absorb audience into lives people torn apart war entirely desperate rid its terrible repercussions altogether', 'taut organically gripping edward dmytryk crossfire distinctive suspense thriller unlikely message movie using look devices noir cyclebut while change homophobia antisemitism works general specifics don fit smoothly victim chatting lonesome drunk young soldier then inviting him back home looks odd even though especially since girlfriend tow raises question whether scenario retained inadvertently left discreet tipoff original engine generating ryan murderous rage', 'ardh satya one finest film ever made indian cinema directed great director govind nihalani one most successful hard hitting parallel cinema which also turned out commercial success even today ardh satya inspiration all leading directors indiafinally films belongs one man show puri portraying anand velankar traversing through all emotions absolutely brilliantly', ' first exposure templarios not good one excited find title among offerings anchor bay video which has brought other cult classics such spider baby print quality excellent but alone can hide fact film deadly dull thrilling opening sequence which villagers exact terrible revenge templars set whole thing motion but everything else movie slow ponderous ultimately unfulfilling adding insult injury movie dubbed not subtitled promised video jacket', 'one most significant quotes entire film pronounced halfway through protagonist mafia middleman titta girolamo physically nondescript middleaged man originally salerno southern italy when introduced him start film been living nonlife elegant but sterile hotel italianspeaking canton switzerland last ten years conducting business are only gradually introduced while pivotal yet apparently unremarkable scene takes place employees swiss bank who normally count girolamo cash tell him dollars are missing usual suitcase full tightly stacked banknotes news quietly but icily threatens coaxing bank manager wanting close down account meanwhile tells spectators when you bluff you have bluff right through end without fear being caught out appearing ridiculous says you can bluff while then halfway through tell truth having eventually done bluffed only halfway through told truth having accepted consequences life ultimately love exactly reason behind beginning titta girolamo troubles young sympathetic hotel waitress sofia played olivia magnani granddaughter legendary anna memory titta best friend man whom hasn seen years unexpectedly provide tiny window onto life titta eventually though tentatively first accepts look through again though never explicitly spelt out spectator knows man like titta accepting consequences love will have unimaginable consequences film without single scene sex violence film unfolds its own time concedes nothing spectator expectations conseguenze dellamore fine representative small quiet discreet renaissance has been taking place italian cinema since decline cinecittà during second half world waiting italy produce more postinolike fare more vita bellastyle films neglecting explore fine creations like conseguenze dellamore imbalsamatore others your loss world', ' watched film not really expecting much got pack films all which were pretty terrible their own way under fiver what could expect you know what right were all terrible movie has few few stretching interesting points occasional camcorder view nice touch drummer very like drummer damned annoying well thats about actually problem its just boring what can only assume attempt build tension whole lot nothing happens when does its utterly tedious had thumb fast forward button ready press most movie but gave seriously lead singer band great looking coz don half mention how beautiful hell lot thought looked bit like meercat all haven even mentioned killer not even gonna into its just not worth explaining anyway far concerned star london are just about only reason watch exception london who actually quite funny wasn because their acting talent certainly seen lot worse but also seen lot better best avoid unless your bored watching paint dry', ' bought film blockbuster because sounded interesting bit ranmaesque idea someone dragging around skeleton because cute girl miniskirt back because restricted viewing sticker thought going sweet least sincere coming age story weird indie edge wrongjust say movie though ', ' plot about death little children hopper one who has investigate killings during movie appears has some troubles daughter end serial killer get caught but before you find out who dunnit you have see some terrible acting all actors unbelievable how bad these actors are including hopper could like but much waste time just don watch movie warned you', 'ever watched movie lost plot well didn even really have one begin really only movie say', 'okay series kind takes route here again week week out david morse character helps out ride who bit pickle but what wrong david morse one greatest character actors out certainly coolest have him series created david koepp great writer heavendue lack love show many can see going season series but you never know amount rubbish has made beyond baffles let hope something good can make past first series', 'after sitting through pile dung husband wondered whether actually product experiment see whether computer program could produce movie listless formulaic but propaganda thrown your face throughout film provesdisappointingly work humans call conspiracy theorist but quotes like have steal declaration independence protect seem like ways justify actions like invasion iraq etc fact nicholas cage spews lines like would never use declaration independence bargaining chip straight face made husband wonder whether entire cast took valium before shooting each scene reasoning behind each plot turn new clue truly ridiculous impossible follow also bonus side plot misogyny whatevername being chided all involved never shutting she clearly movie only looks but felt need slap title character give some gravity one point cage character says don you ever shut camera pans looking poutily down hands like she child truly grotesque only benefit movie astonishingly bad you get few laughs out really scary thing majority people watching movie seemed enjoy creepy', ' had all clichés movies type substance plot went nowhere end movie felt like sucker watching production good however script acting were movie quality casting poor because were good actors mixed crumby actors good actors didn hold their own nor did lift others you are looking mindless entertainment still wouldn recommend movie', ' movie based book many splendored thing han suyin tackles issues race relations between asians whites topic comes han personal experiences eurasian growing china background beautiful hong kong settings gives love story unique rather daring atmosphere its time cinematography really brings out fifty hong kong especially hilltop overlooking harbor where two lovers spend their most intimate moments ending real tearjerker some may consider sentimental romances passé but those who enjoy classic hollywood love stories shining example', ' all films have seen one rage has got one worst yet direction logic continuity changes plotscript dialog made cry out pain how could anyone come something crappy gary busey know movies but sure movie wastetake example about two dozen fbi local law officers surround trailer house jeep wagoneer inside jeep confused why all cops are about within seconds huge gun battle ensues being killed straight off cops blast away jeep gary company blasting away them cops fall like dominoes jeep gary drives around circles are not hit one single bulletpellet killed gary seems not have noticeddamn guy tough truly miracle not since sixshooter held bullets has been such miracle', ' had heard good things about states grace came open mind thought god army okay thought maybe dutcher had improved matured filmmaker film began some shaky acting thought well maybe will get better unfortunately never did picture starts out introducing two elders mormon missionaries seems audience will get know them grow care about them instead story degenerates into highly improbable series unfortunate events highlighting blatant disobedience missionaries something undeniably exists but rarely level dutcher portrays becomes almost laughable conclusion which assuming supposed touch audience inspire them believe forgiveness available all both unbelievable mon entire mission gathers see elder sent home mom girl are standing right next each other cheesy next time dutcher try making movie someone can identify ', ' movie struck home being remember father working factory figured worked hard too had pride never gave too could have american dream house few kids car all call own noted however without degree something unlike father quit ninth grade keen sense greed laziness you can get anywhere would like know anyone has movie dvd vhs made just saw hour ago find anywhere love show friends pseudo friends family other relatives see what think remind them once upon time americans would work sake feeling honor had pride what accomplished think feeling still but heavy downward spiral many things being made overseas', ' disclaimer seen movie times last years only just saw musical week allowed judge movie without being tainted what wasn musical however tainted when watched musical songs were common musical are better done movie new ones are quite good ones whole movie just delivers more musical opinion especially compared musical which has few decors one bad point movie obvious cuts between actors talking dubbed singers during singing portions some characters but their dancing impeccable end product more enjoyable musical', 'protocol implausible movie whose only saving grace stars goldie hawn along good cast supporting actors story revolves around ditzy cocktail waitress who becomes famous after inadvertently saving life arab dignitary story goes downhill halfway through movie goldie charm just doesn save movie unless you are goldie hawn fan don out your way see film', 'how film could classified drama have idea were john voight mary steenburgen would trying erase historically accurate xena hercules abraham moses got melded into noah lot abraham nephew lot turns thousands years before would have been born canaanites wandered earthreally what were scriptwriters thinking just ignorance remember something about noah animals lot canaanites all stuff sunday school were trying offend maximum number people planet possible christians jews muslims historians archaeologists geologists psychologists linguists matter fact did anyone not get offended anyone who had even modicum taste would have winced one', 'preston sturgis power glory unseen public nearly twenty thirty years until late when resurfaced even showed television meantime had gained notoriety because pauline kael citizen kane book had suggested herman mankiewicz orson welles screenplay kane based sturgis screenplay here mentioned beginning thread film imdb web site kael overstated case film not total success action jumps times unconvincingly yet does make business seem real note scene when tom tells board directors about plans purchase small rival train line discusses use debentures financing plans sturgis came wealthy background could bring type detail whole first rate film citizen kane perhaps but interest movie lovers attempt business realism social commentary depression america', 'average surprisingly tame fulci giallo which means still quite bad normal standards but redeemed its solid build some nice touches such neat time twist issues visions clairvoyance out limping killers', 'return chamber one those classic kung movies which shaw produces back whose genre equivalent spaghetti westerns hollywood protagonist gordon liu counterpart western clint eastwood digitally remastered new print made fantastic film fest presented shaw scope just like good old daysact three where fight fest begins cheesy sound effects each obvious noncontact film given maximum impact treatment but rather refreshing watching fight scenes here its wide angled shots highlight clarity detail between sparring partners use slowmotion only showcase stunts different angles you may find speed fights tad too slow some pause between moves but yuen ping style being used nausem hollywood flicks sure don make fight scenes like used return chamber gets repeat screening monday you game nostalgic trip down memory lane what are you waiting ', 'spoilers all too real life well movies familiar story happens many young men who are put war zone gun rifle their hands case young innocent never handling firing gun jimmy davis franchot tone has been repeated thousands times over centuries when men like jimmy davis are forced take arms their countryspoiler alert hearing rumors fellow convicts rose best friend fred were having affair behind back jimmy broke out prison ending fugitive law fred circus where works both manger barker jimmy seeing rose well fred were true him like trial had sudden change heart but thought going back prison least another ten years added sentence just too much jimmy then jimmy decided end all letting police who then tracked him down job himself didn have heart him', 'bela lugosi appeared several these low budget chillers monogram studios corpse vanishes one better onesrating stars out ', ' cannot believe enjoyed much did anthology stories were better par but linking story its surprise ending hooked alot familiar faces will keep you asking yourself where have seen them before forget running time listed new line tape ain minutes according vcr timer imdb space maggot douses campfire own special way hikes ', ' percent nations nitwits still support bush would well see movie which shows aftermath french revolution terror strikingly similar post sociopolitical landscape maybe then could stop worrying about saving face take whupping deserve really shame when politician ruins country those who voted him can denied right ever vote again clearly shown have sense characterwojciech pszoniak blows slovenly deparidieu off screen sympathetic robespierres plight comforting know shortly after film ends have jaw shot off sent guillotine', ' someone has already mentioned board very difficult make fake documentary requires tremendous skill pacing patience directorial distance plausible premise narrative flow really believable acting aka great acting premise people who have secret lives posting themselves porn website perhaps more interesting when film made eriksen does lot tricky stuff pushy host handheld cameras zooms grainy blacks whites all guess elicit sense authenticity but just doesn work film confusing forced but what ultimately brings down believability actors pretty awful dialogue', ' hills have eyes what you would expect nothing more course not going oscar nominated film just pure entertainment which you can just lose yourself minutes', ' laughed all way through rotten movie unbelievable woman leaves husband after many years marriage has breakdown front real estate office what happens office manager comes outside offers job hilarious next thing you know two women are going yep lesbians nothing rings true lifetime women nothing better movie clunky dialogue like don want spend rest life feeling like had chance happy didn take doesn help wealthy distant mother who disapproves daughter new relationship sassy black maid unbelievable year film gets made which sassy black maid hattie mcdaniel must turning grave woman has husband who freaks out wants custody snotty teenage kids sheesh cliche left unturned', ' spoilers good form outing hitchcock brews national network demure old ladies average joes respectable businessmen who double secret agent terrorists harbor criminals pull guns detonate bombs keep things moving terrific plot takes its time moving forward once ignited culminates one hitchcock more memorable finales look incredibly life like nyc tourist attractions all which were recreated art directors hollywood due wartime shooting ban public attractions while saboteur may not one hitchcock most well known films popular movie certainly solid engaging plenty clever plot twists usual terrific hitchcock villains remember look hitchcock cameo appearance outside drug store second half film hitchcock original cameo idea shot him fighting sign language deaf wife axed bureau standards practices who were afraid offending deaf', ' just watched dresser evening having only seen once before about dozen years ago had remembered being good movie but wasn prepared completely mesmerized beginning end you want see example what great acting all about hugely entertained all while then encourage you see dresser', 'what happened what have here basically solid plausible premise decent talented cast but somewhere movie loses actually never really got going little excitement when find out angie not really pregnant then find out she after all but steve martin who very talented person usually brings lot movie dreadful entire character not even close being important movie other make longer really would have liked see more interactions between main characters kate angie maybe try not pure comedy which unfortunately not but maybe drama comedic elements think movie did could have been very funny since both actresses are quite funny their own ways sitting here can think numerous scenarios would have been riot', ' just watched fingersmith stunned see average rating showtwo stars tonsil hockey earlier scene which least bit raunchy none rest ', ' let beginrecommend confidence', 'besides being boring scenes were oppressive dark movie tried portray some kind moral but fell flat its message what were redeeming qualities top don think could make librarians look any more unglamorous did', ' unmarried woman named stella bette midler gets pregnant wealthy man stephen collins offers marry out sense obligation but she turns him down flat decides raise kid own things until child named jenny trini alvarado becomes teenager things gradually predictably become worse seen both silent version sound version stella dallas neither one affected much cry easily but were wellmade dated trying remake just stupid idea guess midler had enough power after incomprehensible success beaches get made predictably bombed story laughable dated today standards even though midler alvarado give good performances film really drags bored silly end stephen collins marsha mason both good actors don help supporting roles flimsy dull reallywho thought would work see stanwyck version instead give ', 'don torture duckling one fulci earlier honestly terms storyline better films although not typical bloodbath fulci known still very unique enjoyable filmdon torture duckling neither classical giallo typical fulci gore film although does contain elements both more oldfashioned murder mystery darker subject matter few scenes graphic violence although nothing nearly strong some fulci later works well written film lots twists kept guessing until end recommended giallomurdermystery fans anyone looking check out some fulci nonsplatter films but don despair don torture still has more fair share violence sleaze some may put off subject child killings one main female character has strange habit hitting very young boys which also kind disconcerting but type material doesn bother you then definitely give one look ', 'busty beauty stacie randall plays pvc clad badass bitch alexandra faithful acolyte faust evil entity trapped hell determined free master malevolent minx breaks into warehouse steal magical gem vital success but whilst conducting satanic ritual summon faust silly mare accidentally enters pentagram she has drawn floor which results loss gem release two diminutive trolllike creatures called lite dark solely high bimbo quotient', ' really like salman kahn really disappointed when seen movie didn have much plot what did have not appealing salman however did look good movie looked young refreshed but worth price dvd music not bad quite nice usually indian movies are least two three hours long but very short movie indian film american actress played movie television hit series heroes ali larter acting had lot desired however she did look good indian dresses she wore all movie had not lot desired hope salman does lot better next movie thank you', ' not sure why producers needed trade name somewhat successful movie franchise because title suggests sequel first three movieswhich not even though marques houston did appear played totally different character eight years older film okay reid martin weren most talented couldn carry film all themselvesbut trade franchise seems could have made some sort reference albeit minor earlier movies sure everyone who wanted see hoodwinkedinto thinking were seeing sequelnot totally different film familiar name sorrykym whitley not funny could not hold candle late robin harris ketty lester curry earlier films although meagen good mari morrow are substantial visual diversion have give thumbs down just naming film down last minute would have been furthermore hudlin brothers who produced first three movies were not involved making film', ' film laboured along some most predictable story lines shallow characters ever seen writer obviously bought playbook how write space disaster movie followed play play particular stereotypical use astronauts talking their loved ones outer space putting brave show face disaster has been done time time again give film out aboveaverage work bill campbell lead role saving lower mark', 'caddyshack two good movie itself but compared original cant stack robert stack horrible replacement ted knight jackie mason while funny just cant compete rodney dangerfield webb funny being only character original most other characters movie lack punch original henry wilcoxon example except hystericly funny lawyer peter blunt being played randy quaid every line says reminds originals humor especially scene office don law suits motions find out where you live come your house beat down your door ing baseball bat make bonfire chippindalemaybe roast golden retriever arff arff arff then eat then comin upstairs junior grabbing you your brooks brothers pjs cramming your brand new bmw your tight have understanding offsetting small role however dan acroyd who obviously replacement bill murray voice beyond irritating everything does isnt even funny its just stupid overall caddyshack good movie but comparison awesome original just cant cut ', 'honestly short film sucks dummy used necro scene pretty well made but still phony enough looking ruin viewing experience unearthed dvd crisp clear haven made mind helps hinders film little grainy might have added some creepiness factor what going have idea why film has much hype surrounding other subject matter but honest necrophilia scenes films like nekromantik visitor among others are more shocking aftermath all talk about film being about loneliness all other manner deep philosophy bull expensive beautifully filmed turd not shocking not disgusting you insist viewing rent give fact not many people make explicit movies about necrophilia should definitely bigger selection sickos filming good does have some gore watching rubbery looking doll get cut open considered gore but other absolutely nothing going overhyped mess other hand genesis cerda sequel aftermath now available double feature released unearthed films absolute masterpiece short film really showing what good director cerda really when given right material although don care aftermath all genesis well made will forgive cerda definitely keep eye out him future', ' thought mukhsin has been wonderfully written its not just about entertainment tonnes subtle messages think yasmin trying bring across yes might confusing some youespecially you didn watch sepet gubra times kept glued screen couldn even take eyes off not even make out cinema ', ' not golf fan any means may about movie started scene late old movies like but not golf however within first scene young boy harry vardon awaken voices men goes outside inquire what are doing told are going build golf something then turned television off but something stirred back movie excellent then see young boy now man professional golf player who haunted visions childhood then meet true focus movie francis decisions makes golf you meet mother father who want protect him class thing obvious during period then little eddie lowery caddy encouraging words little pushes are instrumental francis winning don want give away too much until super please see movie', 'upon viewing tobe hooper gem crocodile developed great interest collegecrocodile niche exploitationmonster genre look forward wayward producer follow several sequels these delightful bonbons camp goodness only wood could bring subtle sense flair dignity these remarkable scripts writing scripts room full monkees creating crocodile special effects computer all need would cast crocky fodder russ meyer breasts ren hoek pectoral implantsallall lack whammy bar surf music irked ', ' tries epic adventure century cast like shô kasugi christopher lee johnrhys davies really perfect adventure all time actually pretty fun swashbuckling adventure even flaws captures your interest must have felt biggest movie ever people who made even made doesn have modern feel more has same feeling old errol flynn movie had big adventure movie are again big thing hollywood but afraid feeling them will never same these old movies had other hand just has real feeling you just can hate think okay adventure movie really love soundtrack damn want theme song', ' last hard men finds james coburn outlaw doing long sentence breaking free chain gang friends head mexican border jail safety don because coburn has mission revenge kill peace officer who brought him process killed woman little peckinpaugh lite last hard men your film', 'maybe title trailer certainly not interview dvd which director keeps saying kids into camera like buffoon but had expectations entrails virgin least bit sleazy fun some good sex scenes brutal bloody killings weird japanese penetrator turns out way too sleazy its own good bad whatever problem one can see also italian sexploitation flick porno holocaust similar many respects not having balance sex violence too much sex will turn into prototypical porno not even much production quality comparison most professional porno movies killing scenes has least little tack maybe just smidgen ingenuity creating creaturekillerwhatever entrails virgin has neither safe say pretty soulless movie even isn one very worst ever made just horndog japanese fetishists get off girls trouble men who have all their brains their other headsnow latter those taken themselves should considered highlights movie like saying however croûtons are best part wretchedly tasting salad eyegouging scene spike thrown like olympic event scene actually kind cool finally entrailing overly sexcrazed girl whose inconsequential name can remember even becomes disappointing just not being correct title top sex scenes which become tedious through gaira indulgence longtakeswithoutcutaways where everything japanese censors blurred anyway are dubbed over actors you think seem enjoying themselves enough hence need let them speak themselves but overall feeling entrails virgin lumpy one where just gawked without shred suspense true horror watch last girl left alive virgin picture tries stop murderer getting which lasts five minutes she keeps throwing sticks him you just want done hate women mantra ease rid altogether', ' few scenes actually attempt depiction revolutionary struggle resemble hirsute boy scout troop meandering tentatively between swimming holes when sharif please god palance try their hand fiery oratory sound like kurtz swallowing bug displays strategic brilliance incorporate map cuba replete smiling fishies ocean positively vaudevillian hypothesis how bay pigs came pass what does leave one comical dentistry scene surfeit uppity hollywood peasants who address camera though were moving train just kicks passel homoeroticism not limited castro manic unremitting cigarfellatio never trust medved but even busted clock right twice day historically awful movie', ' film took surprise make habit finding out little possible about films before attending because trailers reviews provide spoiler after spoiler all knew upon entering theater documentary about long married couple imdb readers gave rotten tomatoes users ranked critics averaged amazing anything underrated little gemlife takes unexpected twists turns beautifully expressive film follows journey difficult verbalize just how moved story unique way which told absolutely riveting beginning end really mustsee even you aren fan documentary genre film will make you think your own life might even evoke memories you thought were long forgotten birch street one those rare filmgoing experiences makes deep impression never leaves you best news all hbo had hand production instead playing limited art house audience eventually millions people will have chance view incredible piece work bravo', 'stephen hawkings genius king geniuses watching movie makes feel dumb but great movie not highly entertaining but very very intriguing movie centers around wheelchair bound stephen hawkings man who makes einstein look average theories scientific discoveries about universe time galaxy black holes everyone sometime another during really intense high comes moment when think got universe cosmos figured out swear soon sober write all down well here man who actually held feeling more then six hours here man who despite suffering lou gehrig disease has become greatest mind world has yet seen watch listen how has formulated theories black holes awesome you won same after you see ', ' story about psychic woman tory who returns hometown begins reliving traumatic childhood past death childhood friend abusive father tory discovers friend just first string murders are still occurring can psychic powers help solve crimes stop continuing murders you really don need find out because god bad know all nora roberts fans will flock movie give tons then rest will see imdb score actually think movie worth watching but not fooled ending predictable acting terrible don even get started about southern accents all story trite just rememberyou were warned', ' god must have seen when only twelve don ask how may have been young but wasn stupid anyone could see bad movie nasty gross unscary very silly seen more impressive effects disneyland seen better performances school play seen more convincing crocodiles zoo where nothing but sit water ignoring children tapping glass australian saltwater crododile one most dangerous creatures out resulting more hundred injuries deaths every year movies like blood surf however ruin not only ferocious image such creature but good hour half viewer life unless you really want see avoid blood surf', 'fate leads walter sparrow come possession mysterious novel has eerie similarities connections life all based around number story unfolds real life fiction sparrow must figure out connection book how story will eventually end acting mostly average pretty forgettable jim carrey clearly just sleepwalking through performance didn even seem trying either completely over top some scenes just very wooden narration complete bore listen put life inside character virginia madsen did best she could limited role but she needs pick better scripts logan lerman pretty bland danny huston overall number awful thriller offered more laughs suspense thrills rating ', ' brought film joke friend could been worst joke play film barely watchable acting dire worst child actor ever used hasslehoff giving substandard performance plot disgraceful points bored wondering what hell going tries gruesome places but just laughablejust terrible', ' probably worst movie have ever seen life stupid plot special affects were ridiculous have never seen such bad acting life only good part about movie were all hot guysespecially drew fuller don know what these people were thinking when made movie didn even want finish whole thing because you get point movie where guys are all bed touching themselves mean like some kind sick twisted kiddy porn would advise anyone who has heard movie interested seeing just forget about find another movie watch very disappointed whole movie complete waste time opinion', ' typical steele novel production two people who have undergone some sort tragedy manage get together despite odds wouldn call spoiler because anyone who has read steele novel knows how all end you don want know much about plot don keep reading wanted mindless entertainment got regard genre romantic films one fails memorable secret affair janine turner far superior not steele book are some steele earlier books turned into film', ' noes one these attack japanese ghost girl movies don even remember how many seen maybe sells but not not scary all japanese horror movies are have been very similar since first one these also pulling kid have seen pulled under scene many times many horror movies cellphone scene also nothing new dramaticness guy getting hit train kinda sucked mean lacked all dramaticness kids who listen japanese rock think are unique let tell you million you one them seen worse but you won missing anything not seeing ', 'nicholas walker paul local town reverand who married martha ally sheedy but also habitual womanizer decides fake own death run away current affair veronica dara tomanovich however doing gets bout amnesia hence name film sally kirkland also hand crazy old coot who pines good reverand shades misery type way sad see pretty good cast wasted like not least bit john savage horridly forgettable role shoddy private investigator film billed black comedy one has bring both elements into said movie while does bring former spades sadly contains none latter furthermore you can emphasize any characters thus have absolutely vested interest them technically not alltogether bad movie just extremely forgettable onewhere saw showtime showcase', 'hollywood movie industry laziest one entire world only needs single hit flood theaters same old crap invented over over again take superheroes example each man spiderman are daredevil elektra ghost rider hulk japanese horror remakes are even worst only took ring which pitchperfect mostly because gore verbinsky bring ton lookalike creepywoman based horrors ring eye dark water which fine but pointless grudges chills are all over girl alone lockers someone who shouldn enter house others dig too deep meanwhile ghosts keep killing killing killing which seems even more deadlier ten world wars ebola epidemic hey doesn seem just like another bad japanese remake something called pulse yeah day after day getting easier hold grudge against hollywood bullshits', 'down periscope has been library since first arrived vhs since then have acquired dvd digital cinema nowthanks kelsey grammar lauren holly rob schneider making what could have been otherwise unremarkable movie such great entertainment', ' you came here because you already seen film were curious what others had say about you know what not writing anymore about just too painful', 'deanna durbin nan grey barbara read are three smart girls universal film which introduces deanna durbin film audiences also stars ray milland mischa auer charles winninger john king binnie barnes alice brady sweet story about three young women now living switzerland their divorced mother who hear their father winninger marrying again not having seen him years knowing their mother still loves him board ship america help housekeepernanny determined stop wedding realizing intended called precious barnes nothing but golddigger aided abetted mother brady arrange introduced wealthy count arranged their father accountant king man chooses fulltime drunk auer but girls mistake him actual wealthy count milland what messvery entertaining course led sequel big stardom deanna', ' anyone wondering why one makes movies like used conversation character simple theme friendship struggling evolve into something new better different those folks need take film see top notch writing directing acting melds into wonderful evening observation how things used italy england other days other times funneled into terrific comedy entertainment made alfred molina joan plowright polly walker josie lawrence jim broadbent miranda richardson michael kitchens major roles under brush stroke direction mike newell these actors accomplish vividly memorable performances are photographed sublimely subtle painter eye reminiscent theatrical bedroom farce turn century film might called friendship farce becomes worthwhile experience growth romantic nature within each character viewer too artistic telegram importance caring about those around ', ' watched series out curiositywanting see could possibly all modern technologyout cecil demille classic epic starring charleton hestonyul brenner sir cedric hardwicke course let down yes had all biblical characters correct but didn give any spectacular theatrical scenes held your interest throughout first movie you going have miniseries you have have some rivoting scenes burning bush parting red seadrowning pharohs armies building sethi pyramids could have been done todays technology scale blockbuster movies such lord rings matrix obviously didn want leave lasting impression faith sacrifice which much needed these trouble times', 'daniel daylewis most versatile actor alive english aristocratic snob room view passionate irish thief name father impudent violent butcher gangs new york performance ten times stronger adrian brody pianist outrageous cristy brown cerebral palsy left foot just name few roles all influence eachother but each seperate utterly unique changes completely each character takes beginning believe can act anything anything mustsee sho ', ' guess would originally going least two parts thus least quarter longer because otherwise how can one explain its confused abbreviated storyline never completely lost but often partially lost usually unclear character motivation movie feels though joining plot points were dropped squeeze into its time slotbad dialog cardboard characters one interesting scene involving hercules three antagonistic sons not unwatchable but also not worth watching', 'well like watch bad horror movies cause think interesting see stupidity unability creators shoot seriously good movie always compare movies example some spielberg works againagain don understand huge difference what see like wood movies cause inept very funny but people chilling not funny not even interesting extremely boring horror movie without anything what makes even bad movies watchable acting screenplay direction thrills not even blood extremely inept amateurish film definitely worst movie had ever seen had seen lot worst movies believe warned you ', ' worst movie have ever seen well worst will probably ever see see need rehash what all others have said previously just forewarnedstay away unless course you just want watch worst movie all time its probably how lion gate figured would make some money off piece tripe', ' have been mario fan long can remember have very fond memories playing super mario world kid game has brought back many those memories while adding something new super mario galaxy latest installment amazing mario franchise much very different about game any other mario before while still keeping intact greatest elements mario first noticeable difference story takes place space perfect out ', ... ]"
      ]
     },
     "execution_count": 5,
     "metadata": {},
     "output_type": "execute_result"
    }
   ],
   "source": [
    "movies_sframe['review']"
   ]
  },
  {
   "cell_type": "code",
   "execution_count": 6,
   "id": "9b1e364a",
   "metadata": {},
   "outputs": [
    {
     "data": {
      "text/html": [
       "<div style=\"max-height:1000px;max-width:1500px;overflow:auto;\"><table frame=\"box\" rules=\"cols\">\n",
       "    <tr>\n",
       "        <th style=\"padding-left: 1em; padding-right: 1em; text-align: center\">review</th>\n",
       "        <th style=\"padding-left: 1em; padding-right: 1em; text-align: center\">sentiment</th>\n",
       "        <th style=\"padding-left: 1em; padding-right: 1em; text-align: center\">words</th>\n",
       "    </tr>\n",
       "    <tr>\n",
       "        <td style=\"padding-left: 1em; padding-right: 1em; text-align: center; vertical-align: top\">one other reviewers has<br>mentioned after watching ...</td>\n",
       "        <td style=\"padding-left: 1em; padding-right: 1em; text-align: center; vertical-align: top\">positive</td>\n",
       "        <td style=\"padding-left: 1em; padding-right: 1em; text-align: center; vertical-align: top\">{&#x27;comfortable&#x27;: 1.0,<br>&#x27;street&#x27;: 1.0, &#x27;their&#x27;: ...</td>\n",
       "    </tr>\n",
       "    <tr>\n",
       "        <td style=\"padding-left: 1em; padding-right: 1em; text-align: center; vertical-align: top\"> wonderful little<br>production realism re ...</td>\n",
       "        <td style=\"padding-left: 1em; padding-right: 1em; text-align: center; vertical-align: top\">positive</td>\n",
       "        <td style=\"padding-left: 1em; padding-right: 1em; text-align: center; vertical-align: top\">{&#x27;done&#x27;: 1.0, &#x27;well&#x27;:<br>1.0, &#x27;are&#x27;: 1.0, ...</td>\n",
       "    </tr>\n",
       "    <tr>\n",
       "        <td style=\"padding-left: 1em; padding-right: 1em; text-align: center; vertical-align: top\"> thought wonderful way<br>spend time too hot su ...</td>\n",
       "        <td style=\"padding-left: 1em; padding-right: 1em; text-align: center; vertical-align: top\">positive</td>\n",
       "        <td style=\"padding-left: 1em; padding-right: 1em; text-align: center; vertical-align: top\">{&#x27;see&#x27;: 1.0, &#x27;superman&#x27;:<br>1.0, &#x27;interesting&#x27;: 1.0, ...</td>\n",
       "    </tr>\n",
       "    <tr>\n",
       "        <td style=\"padding-left: 1em; padding-right: 1em; text-align: center; vertical-align: top\">basically family where<br>little boy jake thinks ...</td>\n",
       "        <td style=\"padding-left: 1em; padding-right: 1em; text-align: center; vertical-align: top\">negative</td>\n",
       "        <td style=\"padding-left: 1em; padding-right: 1em; text-align: center; vertical-align: top\">{&#x27;them&#x27;: 1.0, &#x27;shots&#x27;:<br>1.0, &#x27;descent&#x27;: 1.0, ...</td>\n",
       "    </tr>\n",
       "    <tr>\n",
       "        <td style=\"padding-left: 1em; padding-right: 1em; text-align: center; vertical-align: top\">petter mattei love time<br>money visually stunning ...</td>\n",
       "        <td style=\"padding-left: 1em; padding-right: 1em; text-align: center; vertical-align: top\">positive</td>\n",
       "        <td style=\"padding-left: 1em; padding-right: 1em; text-align: center; vertical-align: top\">{&#x27;anxiously&#x27;: 1.0,<br>&#x27;await&#x27;: 1.0, &#x27;work&#x27;: ...</td>\n",
       "    </tr>\n",
       "    <tr>\n",
       "        <td style=\"padding-left: 1em; padding-right: 1em; text-align: center; vertical-align: top\">probably alltime favorite<br>movie story selflessness ...</td>\n",
       "        <td style=\"padding-left: 1em; padding-right: 1em; text-align: center; vertical-align: top\">positive</td>\n",
       "        <td style=\"padding-left: 1em; padding-right: 1em; text-align: center; vertical-align: top\">{&#x27;all&#x27;: 1.0, &#x27;thumbs&#x27;:<br>1.0, &#x27;dozen&#x27;: 1.0, ...</td>\n",
       "    </tr>\n",
       "    <tr>\n",
       "        <td style=\"padding-left: 1em; padding-right: 1em; text-align: center; vertical-align: top\"> sure would like see<br>resurrection dated ...</td>\n",
       "        <td style=\"padding-left: 1em; padding-right: 1em; text-align: center; vertical-align: top\">positive</td>\n",
       "        <td style=\"padding-left: 1em; padding-right: 1em; text-align: center; vertical-align: top\">{&#x27;then&#x27;: 1.0, &#x27;doubt&#x27;:<br>1.0, &#x27;out&#x27;: 1.0, &#x27;lin ...</td>\n",
       "    </tr>\n",
       "    <tr>\n",
       "        <td style=\"padding-left: 1em; padding-right: 1em; text-align: center; vertical-align: top\"> show amazing fresh<br>innovative idea when ...</td>\n",
       "        <td style=\"padding-left: 1em; padding-right: 1em; text-align: center; vertical-align: top\">negative</td>\n",
       "        <td style=\"padding-left: 1em; padding-right: 1em; text-align: center; vertical-align: top\">{&#x27;awful&#x27;: 1.0, &#x27;just&#x27;:<br>1.0, &#x27;now&#x27;: 1.0, ...</td>\n",
       "    </tr>\n",
       "    <tr>\n",
       "        <td style=\"padding-left: 1em; padding-right: 1em; text-align: center; vertical-align: top\">encouraged positive<br>comments about film here ...</td>\n",
       "        <td style=\"padding-left: 1em; padding-right: 1em; text-align: center; vertical-align: top\">negative</td>\n",
       "        <td style=\"padding-left: 1em; padding-right: 1em; text-align: center; vertical-align: top\">{&#x27;obsessives&#x27;: 1.0,<br>&#x27;effort&#x27;: 1.0, &#x27;bit&#x27;: ...</td>\n",
       "    </tr>\n",
       "    <tr>\n",
       "        <td style=\"padding-left: 1em; padding-right: 1em; text-align: center; vertical-align: top\"> you like original gut<br>wrenching laughter you ...</td>\n",
       "        <td style=\"padding-left: 1em; padding-right: 1em; text-align: center; vertical-align: top\">positive</td>\n",
       "        <td style=\"padding-left: 1em; padding-right: 1em; text-align: center; vertical-align: top\">{&#x27;mom&#x27;: 1.0, &#x27;hell&#x27;: 1.0,<br>&#x27;great&#x27;: 1.0, &#x27;love&#x27;: ...</td>\n",
       "    </tr>\n",
       "</table>\n",
       "[50000 rows x 3 columns]<br/>Note: Only the head of the SFrame is printed.<br/>You can use print_rows(num_rows=m, num_columns=n) to print more rows and columns.\n",
       "</div>"
      ],
      "text/plain": [
       "Columns:\n",
       "\treview\tstr\n",
       "\tsentiment\tstr\n",
       "\twords\tdict\n",
       "\n",
       "Rows: 50000\n",
       "\n",
       "Data:\n",
       "+-------------------------------+-----------+-------------------------------+\n",
       "|             review            | sentiment |             words             |\n",
       "+-------------------------------+-----------+-------------------------------+\n",
       "| one other reviewers has me... |  positive | {'comfortable': 1.0, 'stre... |\n",
       "|  wonderful little producti... |  positive | {'done': 1.0, 'well': 1.0,... |\n",
       "|  thought wonderful way spe... |  positive | {'see': 1.0, 'superman': 1... |\n",
       "| basically family where lit... |  negative | {'them': 1.0, 'shots': 1.0... |\n",
       "| petter mattei love time mo... |  positive | {'anxiously': 1.0, 'await'... |\n",
       "| probably alltime favorite ... |  positive | {'all': 1.0, 'thumbs': 1.0... |\n",
       "|  sure would like see resur... |  positive | {'then': 1.0, 'doubt': 1.0... |\n",
       "|  show amazing fresh innova... |  negative | {'awful': 1.0, 'just': 1.0... |\n",
       "| encouraged positive commen... |  negative | {'obsessives': 1.0, 'effor... |\n",
       "|  you like original gut wre... |  positive | {'mom': 1.0, 'hell': 1.0, ... |\n",
       "+-------------------------------+-----------+-------------------------------+\n",
       "[50000 rows x 3 columns]\n",
       "Note: Only the head of the SFrame is printed.\n",
       "You can use print_rows(num_rows=m, num_columns=n) to print more rows and columns."
      ]
     },
     "execution_count": 6,
     "metadata": {},
     "output_type": "execute_result"
    }
   ],
   "source": [
    "# Making a new data frame, inserting cleaned review column\n",
    "movies = tc.SFrame(movies_sframe)\n",
    "# Creating a new column called words with Turi Create text analytics method, to counting each word in review column\n",
    "movies['words'] = tc.text_analytics.count_words(movies['review'])\n",
    "movies"
   ]
  },
  {
   "cell_type": "code",
   "execution_count": 7,
   "id": "28ce5646",
   "metadata": {},
   "outputs": [],
   "source": [
    "# Splitting data into 80% to training data, resting 20% of it\n",
    "train_data, rest_data = movies.random_split(0.8, seed=0)\n",
    "# From the 20% that remained splitting it into halves, so from the rest 10% goes for testing, 10% for validation\n",
    "test_data, validation_data = rest_data.random_split(0.5, seed=0)"
   ]
  },
  {
   "cell_type": "code",
   "execution_count": 8,
   "id": "fad4a60c",
   "metadata": {},
   "outputs": [
    {
     "data": {
      "text/html": [
       "<pre>Logistic regression:</pre>"
      ],
      "text/plain": [
       "Logistic regression:"
      ]
     },
     "metadata": {},
     "output_type": "display_data"
    },
    {
     "data": {
      "text/html": [
       "<pre>--------------------------------------------------------</pre>"
      ],
      "text/plain": [
       "--------------------------------------------------------"
      ]
     },
     "metadata": {},
     "output_type": "display_data"
    },
    {
     "data": {
      "text/html": [
       "<pre>Number of examples          : 50000</pre>"
      ],
      "text/plain": [
       "Number of examples          : 50000"
      ]
     },
     "metadata": {},
     "output_type": "display_data"
    },
    {
     "data": {
      "text/html": [
       "<pre>Number of classes           : 2</pre>"
      ],
      "text/plain": [
       "Number of classes           : 2"
      ]
     },
     "metadata": {},
     "output_type": "display_data"
    },
    {
     "data": {
      "text/html": [
       "<pre>Number of feature columns   : 1</pre>"
      ],
      "text/plain": [
       "Number of feature columns   : 1"
      ]
     },
     "metadata": {},
     "output_type": "display_data"
    },
    {
     "data": {
      "text/html": [
       "<pre>Number of unpacked features : 114328</pre>"
      ],
      "text/plain": [
       "Number of unpacked features : 114328"
      ]
     },
     "metadata": {},
     "output_type": "display_data"
    },
    {
     "data": {
      "text/html": [
       "<pre>Number of coefficients      : 114329</pre>"
      ],
      "text/plain": [
       "Number of coefficients      : 114329"
      ]
     },
     "metadata": {},
     "output_type": "display_data"
    },
    {
     "data": {
      "text/html": [
       "<pre>Starting L-BFGS</pre>"
      ],
      "text/plain": [
       "Starting L-BFGS"
      ]
     },
     "metadata": {},
     "output_type": "display_data"
    },
    {
     "data": {
      "text/html": [
       "<pre>--------------------------------------------------------</pre>"
      ],
      "text/plain": [
       "--------------------------------------------------------"
      ]
     },
     "metadata": {},
     "output_type": "display_data"
    },
    {
     "data": {
      "text/html": [
       "<pre>+-----------+----------+-----------+--------------+-------------------+---------------------+</pre>"
      ],
      "text/plain": [
       "+-----------+----------+-----------+--------------+-------------------+---------------------+"
      ]
     },
     "metadata": {},
     "output_type": "display_data"
    },
    {
     "data": {
      "text/html": [
       "<pre>| Iteration | Passes   | Step size | Elapsed Time | Training Accuracy | Validation Accuracy |</pre>"
      ],
      "text/plain": [
       "| Iteration | Passes   | Step size | Elapsed Time | Training Accuracy | Validation Accuracy |"
      ]
     },
     "metadata": {},
     "output_type": "display_data"
    },
    {
     "data": {
      "text/html": [
       "<pre>+-----------+----------+-----------+--------------+-------------------+---------------------+</pre>"
      ],
      "text/plain": [
       "+-----------+----------+-----------+--------------+-------------------+---------------------+"
      ]
     },
     "metadata": {},
     "output_type": "display_data"
    },
    {
     "data": {
      "text/html": [
       "<pre>| 0         | 2        | 1.000000  | 1.167120     | 0.935040          | 0.932960            |</pre>"
      ],
      "text/plain": [
       "| 0         | 2        | 1.000000  | 1.167120     | 0.935040          | 0.932960            |"
      ]
     },
     "metadata": {},
     "output_type": "display_data"
    },
    {
     "data": {
      "text/html": [
       "<pre>| 1         | 4        | 1.000000  | 1.349351     | 0.971180          | 0.970382            |</pre>"
      ],
      "text/plain": [
       "| 1         | 4        | 1.000000  | 1.349351     | 0.971180          | 0.970382            |"
      ]
     },
     "metadata": {},
     "output_type": "display_data"
    },
    {
     "data": {
      "text/html": [
       "<pre>| 2         | 5        | 1.000000  | 1.434909     | 0.981540          | 0.980788            |</pre>"
      ],
      "text/plain": [
       "| 2         | 5        | 1.000000  | 1.434909     | 0.981540          | 0.980788            |"
      ]
     },
     "metadata": {},
     "output_type": "display_data"
    },
    {
     "data": {
      "text/html": [
       "<pre>| 3         | 6        | 1.000000  | 1.544558     | 0.984400          | 0.982590            |</pre>"
      ],
      "text/plain": [
       "| 3         | 6        | 1.000000  | 1.544558     | 0.984400          | 0.982590            |"
      ]
     },
     "metadata": {},
     "output_type": "display_data"
    },
    {
     "data": {
      "text/html": [
       "<pre>| 4         | 8        | 1.000000  | 1.682997     | 0.989560          | 0.989594            |</pre>"
      ],
      "text/plain": [
       "| 4         | 8        | 1.000000  | 1.682997     | 0.989560          | 0.989594            |"
      ]
     },
     "metadata": {},
     "output_type": "display_data"
    },
    {
     "data": {
      "text/html": [
       "<pre>| 9         | 13       | 1.000000  | 2.069737     | 0.997120          | 0.995597            |</pre>"
      ],
      "text/plain": [
       "| 9         | 13       | 1.000000  | 2.069737     | 0.997120          | 0.995597            |"
      ]
     },
     "metadata": {},
     "output_type": "display_data"
    },
    {
     "data": {
      "text/html": [
       "<pre>+-----------+----------+-----------+--------------+-------------------+---------------------+</pre>"
      ],
      "text/plain": [
       "+-----------+----------+-----------+--------------+-------------------+---------------------+"
      ]
     },
     "metadata": {},
     "output_type": "display_data"
    }
   ],
   "source": [
    "# Creating a logistic classifier model, called model, using movies as data, column words as feature and\n",
    "# considering sentiment as label\n",
    "model = tc.logistic_classifier.create(\n",
    "                                      movies, \n",
    "                                      features=['words'], \n",
    "                                      target='sentiment', \n",
    "                                      validation_set=validation_data\n",
    "                                     )"
   ]
  },
  {
   "cell_type": "code",
   "execution_count": 9,
   "id": "602f7f7c",
   "metadata": {},
   "outputs": [
    {
     "data": {
      "text/html": [
       "<pre>Logistic regression:</pre>"
      ],
      "text/plain": [
       "Logistic regression:"
      ]
     },
     "metadata": {},
     "output_type": "display_data"
    },
    {
     "data": {
      "text/html": [
       "<pre>--------------------------------------------------------</pre>"
      ],
      "text/plain": [
       "--------------------------------------------------------"
      ]
     },
     "metadata": {},
     "output_type": "display_data"
    },
    {
     "data": {
      "text/html": [
       "<pre>Number of examples          : 50000</pre>"
      ],
      "text/plain": [
       "Number of examples          : 50000"
      ]
     },
     "metadata": {},
     "output_type": "display_data"
    },
    {
     "data": {
      "text/html": [
       "<pre>Number of classes           : 2</pre>"
      ],
      "text/plain": [
       "Number of classes           : 2"
      ]
     },
     "metadata": {},
     "output_type": "display_data"
    },
    {
     "data": {
      "text/html": [
       "<pre>Number of feature columns   : 1</pre>"
      ],
      "text/plain": [
       "Number of feature columns   : 1"
      ]
     },
     "metadata": {},
     "output_type": "display_data"
    },
    {
     "data": {
      "text/html": [
       "<pre>Number of unpacked features : 114328</pre>"
      ],
      "text/plain": [
       "Number of unpacked features : 114328"
      ]
     },
     "metadata": {},
     "output_type": "display_data"
    },
    {
     "data": {
      "text/html": [
       "<pre>Number of coefficients      : 114329</pre>"
      ],
      "text/plain": [
       "Number of coefficients      : 114329"
      ]
     },
     "metadata": {},
     "output_type": "display_data"
    },
    {
     "data": {
      "text/html": [
       "<pre>Starting Accelerated Gradient (FISTA)</pre>"
      ],
      "text/plain": [
       "Starting Accelerated Gradient (FISTA)"
      ]
     },
     "metadata": {},
     "output_type": "display_data"
    },
    {
     "data": {
      "text/html": [
       "<pre>--------------------------------------------------------</pre>"
      ],
      "text/plain": [
       "--------------------------------------------------------"
      ]
     },
     "metadata": {},
     "output_type": "display_data"
    },
    {
     "data": {
      "text/html": [
       "<pre>Tuning step size. First iteration could take longer than subsequent iterations.</pre>"
      ],
      "text/plain": [
       "Tuning step size. First iteration could take longer than subsequent iterations."
      ]
     },
     "metadata": {},
     "output_type": "display_data"
    },
    {
     "data": {
      "text/html": [
       "<pre>+-----------+----------+-----------+--------------+-------------------+---------------------+</pre>"
      ],
      "text/plain": [
       "+-----------+----------+-----------+--------------+-------------------+---------------------+"
      ]
     },
     "metadata": {},
     "output_type": "display_data"
    },
    {
     "data": {
      "text/html": [
       "<pre>| Iteration | Passes   | Step size | Elapsed Time | Training Accuracy | Validation Accuracy |</pre>"
      ],
      "text/plain": [
       "| Iteration | Passes   | Step size | Elapsed Time | Training Accuracy | Validation Accuracy |"
      ]
     },
     "metadata": {},
     "output_type": "display_data"
    },
    {
     "data": {
      "text/html": [
       "<pre>+-----------+----------+-----------+--------------+-------------------+---------------------+</pre>"
      ],
      "text/plain": [
       "+-----------+----------+-----------+--------------+-------------------+---------------------+"
      ]
     },
     "metadata": {},
     "output_type": "display_data"
    },
    {
     "data": {
      "text/html": [
       "<pre>| 0         | 1        | 1.000000  | 0.093427     | 0.500000          | 0.495497            |</pre>"
      ],
      "text/plain": [
       "| 0         | 1        | 1.000000  | 0.093427     | 0.500000          | 0.495497            |"
      ]
     },
     "metadata": {},
     "output_type": "display_data"
    },
    {
     "data": {
      "text/html": [
       "<pre>| 1         | 2        | 0.000008  | 1.449042     | 0.934960          | 0.932560            |</pre>"
      ],
      "text/plain": [
       "| 1         | 2        | 0.000008  | 1.449042     | 0.934960          | 0.932560            |"
      ]
     },
     "metadata": {},
     "output_type": "display_data"
    },
    {
     "data": {
      "text/html": [
       "<pre>| 2         | 3        | 0.000008  | 1.619168     | 0.959380          | 0.957174            |</pre>"
      ],
      "text/plain": [
       "| 2         | 3        | 0.000008  | 1.619168     | 0.959380          | 0.957174            |"
      ]
     },
     "metadata": {},
     "output_type": "display_data"
    },
    {
     "data": {
      "text/html": [
       "<pre>| 3         | 4        | 0.000008  | 1.791236     | 0.964100          | 0.963778            |</pre>"
      ],
      "text/plain": [
       "| 3         | 4        | 0.000008  | 1.791236     | 0.964100          | 0.963778            |"
      ]
     },
     "metadata": {},
     "output_type": "display_data"
    },
    {
     "data": {
      "text/html": [
       "<pre>| 4         | 5        | 0.000003  | 2.022024     | 0.973200          | 0.971783            |</pre>"
      ],
      "text/plain": [
       "| 4         | 5        | 0.000003  | 2.022024     | 0.973200          | 0.971783            |"
      ]
     },
     "metadata": {},
     "output_type": "display_data"
    },
    {
     "data": {
      "text/html": [
       "<pre>| 5         | 6        | 0.000003  | 2.189081     | 0.975580          | 0.974785            |</pre>"
      ],
      "text/plain": [
       "| 5         | 6        | 0.000003  | 2.189081     | 0.975580          | 0.974785            |"
      ]
     },
     "metadata": {},
     "output_type": "display_data"
    },
    {
     "data": {
      "text/html": [
       "<pre>+-----------+----------+-----------+--------------+-------------------+---------------------+</pre>"
      ],
      "text/plain": [
       "+-----------+----------+-----------+--------------+-------------------+---------------------+"
      ]
     },
     "metadata": {},
     "output_type": "display_data"
    },
    {
     "data": {
      "text/html": [
       "<pre>SUCCESS: Optimal solution found.</pre>"
      ],
      "text/plain": [
       "SUCCESS: Optimal solution found."
      ]
     },
     "metadata": {},
     "output_type": "display_data"
    },
    {
     "data": {
      "text/html": [
       "<pre></pre>"
      ],
      "text/plain": []
     },
     "metadata": {},
     "output_type": "display_data"
    }
   ],
   "source": [
    "# Creating another logistic classifier model, called model hyperparameters, \n",
    "# using movies as data, column words as feature and considering sentiment as label\n",
    "# also using hyperparameters to refine the model\n",
    "model_hyperparameters = tc.logistic_classifier.create(\n",
    "                                                      movies, \n",
    "                                                      features=['words'], \n",
    "                                                      target='sentiment', \n",
    "                                                      validation_set=validation_data, \n",
    "                                                      # feature_rescaling=False,\n",
    "                                                      l1_penalty=1, \n",
    "                                                      l2_penalty=100,\n",
    "                                                      # max_iterations=200  \n",
    "                                                     )"
   ]
  },
  {
   "cell_type": "code",
   "execution_count": 10,
   "id": "c2fd3a2f",
   "metadata": {},
   "outputs": [
    {
     "name": "stdout",
     "output_type": "stream",
     "text": [
      "Training accuracy for model: 0.9973021582733813\n",
      "Validation accuracy for model: 0.995597358415049\n"
     ]
    }
   ],
   "source": [
    "# Evaluating accuracy of model training data with TuriCreate features\n",
    "train_accuracy = model.evaluate(train_data)['accuracy']\n",
    "# Evaluating accuracy of model validation data with TuriCreate features\n",
    "validation_accuracy = model.evaluate(validation_data)['accuracy']\n",
    "print(\"Training accuracy for model:\", train_accuracy)\n",
    "print(\"Validation accuracy for model:\", validation_accuracy)"
   ]
  },
  {
   "cell_type": "code",
   "execution_count": 11,
   "id": "cade7fa7",
   "metadata": {},
   "outputs": [
    {
     "name": "stdout",
     "output_type": "stream",
     "text": [
      "Training accuracy for model: 0.9759192645883293\n",
      "Validation accuracy for model: 0.9747848709225535\n"
     ]
    }
   ],
   "source": [
    "# Evaluating accuracy of hyperparameter model training data with TuriCreate\n",
    "train_accuracy = model_hyperparameters.evaluate(train_data)['accuracy']\n",
    "# Evaluating accuracy of hyperparameter model validation data with TuriCreate\n",
    "validation_accuracy = model_hyperparameters.evaluate(validation_data)['accuracy']\n",
    "print(\"Training accuracy for model:\", train_accuracy)\n",
    "print(\"Validation accuracy for model:\", validation_accuracy)"
   ]
  },
  {
   "cell_type": "code",
   "execution_count": 12,
   "id": "0779c042",
   "metadata": {},
   "outputs": [
    {
     "name": "stdout",
     "output_type": "stream",
     "text": [
      "+--------------+-----------------+-------+\n",
      "| target_label | predicted_label | count |\n",
      "+--------------+-----------------+-------+\n",
      "|   negative   |     positive    |   17  |\n",
      "|   positive   |     negative    |   5   |\n",
      "|   positive   |     positive    |  2471 |\n",
      "|   negative   |     negative    |  2504 |\n",
      "+--------------+-----------------+-------+\n",
      "[4 rows x 3 columns]\n",
      "\n"
     ]
    }
   ],
   "source": [
    "# Using TuriCreate to evaluate model validation data confusion matrix\n",
    "confusion_matrix = model.evaluate(validation_data)['confusion_matrix']\n",
    "print(confusion_matrix)"
   ]
  },
  {
   "cell_type": "code",
   "execution_count": 13,
   "id": "9936b622",
   "metadata": {},
   "outputs": [
    {
     "name": "stdout",
     "output_type": "stream",
     "text": [
      "+--------------+-----------------+-------+\n",
      "| target_label | predicted_label | count |\n",
      "+--------------+-----------------+-------+\n",
      "|   negative   |     positive    |   70  |\n",
      "|   positive   |     negative    |   56  |\n",
      "|   positive   |     positive    |  2420 |\n",
      "|   negative   |     negative    |  2451 |\n",
      "+--------------+-----------------+-------+\n",
      "[4 rows x 3 columns]\n",
      "\n"
     ]
    }
   ],
   "source": [
    "# Using TuriCreate to evaluate hyperparameters model validation data confusion matrix\n",
    "confusion_matrix_hyper = model_hyperparameters.evaluate(validation_data)['confusion_matrix']\n",
    "print(confusion_matrix_hyper)"
   ]
  },
  {
   "cell_type": "code",
   "execution_count": 14,
   "id": "aa80ca76",
   "metadata": {},
   "outputs": [
    {
     "name": "stdout",
     "output_type": "stream",
     "text": [
      "model precision: 0.9970404735242361\n",
      "model recall: 0.9972\n"
     ]
    }
   ],
   "source": [
    "# Creating a variable with model evaluation\n",
    "evalueted = model.evaluate(movies)\n",
    "# Getting precision from the evaluated results\n",
    "precision = evalueted['precision']\n",
    "# Then getting recall from evaluated results\n",
    "recall = evalueted['recall']\n",
    "print('model precision:', precision)\n",
    "print('model recall:', recall)"
   ]
  },
  {
   "cell_type": "code",
   "execution_count": 15,
   "id": "7ba22a32",
   "metadata": {},
   "outputs": [
    {
     "data": {
      "text/plain": [
       "0.9971984202797302"
      ]
     },
     "execution_count": 15,
     "metadata": {},
     "output_type": "execute_result"
    }
   ],
   "source": [
    "# Giving a value to beta\n",
    "b = 10\n",
    "# Calculating the Fbeta score with the formula, using stored values of precision and recall\n",
    "f = (1 + b**2) * (precision * recall) / ((b**2 * precision) + recall)\n",
    "f"
   ]
  },
  {
   "cell_type": "code",
   "execution_count": 16,
   "id": "c74483fa",
   "metadata": {},
   "outputs": [
    {
     "name": "stdout",
     "output_type": "stream",
     "text": [
      "hyper model precision: 0.975941715703935\n",
      "hyper model recall: 0.9752\n"
     ]
    }
   ],
   "source": [
    "# Creating a variable with hyperparameter model evaluation\n",
    "evalueted_hyper = model_hyperparameters.evaluate(movies)\n",
    "# Getting precision from the evaluated results\n",
    "precision_hyper = evalueted_hyper['precision']\n",
    "# Then getting recall from evaluated results\n",
    "recall_hyper = evalueted_hyper['recall']\n",
    "print('hyper model precision:', precision_hyper)\n",
    "print('hyper model recall:', recall_hyper)"
   ]
  },
  {
   "cell_type": "code",
   "execution_count": 17,
   "id": "a96c7b1a",
   "metadata": {},
   "outputs": [
    {
     "data": {
      "text/plain": [
       "0.9752073381938319"
      ]
     },
     "execution_count": 17,
     "metadata": {},
     "output_type": "execute_result"
    }
   ],
   "source": [
    "# Giving a value to beta\n",
    "b = 10\n",
    "# Calculating the Fbeta score with the formula, using stored values of precision and recall\n",
    "f_hyper = (1 + b**2) * (precision_hyper * recall_hyper) / ((b**2 * precision_hyper) + recall_hyper)\n",
    "f_hyper"
   ]
  },
  {
   "cell_type": "code",
   "execution_count": 18,
   "id": "0f06ecd3",
   "metadata": {},
   "outputs": [],
   "source": [
    "# Storing predictions from model with probability output, this variable is used to calculate the ROC\n",
    "predictions = model.predict(movies, output_type='probability')\n",
    "# Storing predictions from hyperparameter model with probability output, this variable is used to calculate the ROC\n",
    "predictions_hyper = model_hyperparameters.predict(movies, output_type='probability')"
   ]
  },
  {
   "cell_type": "code",
   "execution_count": 19,
   "id": "88725af9",
   "metadata": {},
   "outputs": [
    {
     "data": {
      "text/html": [
       "<div style=\"max-height:1000px;max-width:1500px;overflow:auto;\"><table frame=\"box\" rules=\"cols\">\n",
       "    <tr>\n",
       "        <th style=\"padding-left: 1em; padding-right: 1em; text-align: center\">threshold</th>\n",
       "        <th style=\"padding-left: 1em; padding-right: 1em; text-align: center\">fpr</th>\n",
       "        <th style=\"padding-left: 1em; padding-right: 1em; text-align: center\">tpr</th>\n",
       "        <th style=\"padding-left: 1em; padding-right: 1em; text-align: center\">p</th>\n",
       "        <th style=\"padding-left: 1em; padding-right: 1em; text-align: center\">n</th>\n",
       "    </tr>\n",
       "    <tr>\n",
       "        <td style=\"padding-left: 1em; padding-right: 1em; text-align: center; vertical-align: top\">0.0</td>\n",
       "        <td style=\"padding-left: 1em; padding-right: 1em; text-align: center; vertical-align: top\">1.0</td>\n",
       "        <td style=\"padding-left: 1em; padding-right: 1em; text-align: center; vertical-align: top\">1.0</td>\n",
       "        <td style=\"padding-left: 1em; padding-right: 1em; text-align: center; vertical-align: top\">25000</td>\n",
       "        <td style=\"padding-left: 1em; padding-right: 1em; text-align: center; vertical-align: top\">25000</td>\n",
       "    </tr>\n",
       "    <tr>\n",
       "        <td style=\"padding-left: 1em; padding-right: 1em; text-align: center; vertical-align: top\">0.001</td>\n",
       "        <td style=\"padding-left: 1em; padding-right: 1em; text-align: center; vertical-align: top\">0.13568</td>\n",
       "        <td style=\"padding-left: 1em; padding-right: 1em; text-align: center; vertical-align: top\">1.0</td>\n",
       "        <td style=\"padding-left: 1em; padding-right: 1em; text-align: center; vertical-align: top\">25000</td>\n",
       "        <td style=\"padding-left: 1em; padding-right: 1em; text-align: center; vertical-align: top\">25000</td>\n",
       "    </tr>\n",
       "    <tr>\n",
       "        <td style=\"padding-left: 1em; padding-right: 1em; text-align: center; vertical-align: top\">0.002</td>\n",
       "        <td style=\"padding-left: 1em; padding-right: 1em; text-align: center; vertical-align: top\">0.10732</td>\n",
       "        <td style=\"padding-left: 1em; padding-right: 1em; text-align: center; vertical-align: top\">1.0</td>\n",
       "        <td style=\"padding-left: 1em; padding-right: 1em; text-align: center; vertical-align: top\">25000</td>\n",
       "        <td style=\"padding-left: 1em; padding-right: 1em; text-align: center; vertical-align: top\">25000</td>\n",
       "    </tr>\n",
       "    <tr>\n",
       "        <td style=\"padding-left: 1em; padding-right: 1em; text-align: center; vertical-align: top\">0.003</td>\n",
       "        <td style=\"padding-left: 1em; padding-right: 1em; text-align: center; vertical-align: top\">0.094</td>\n",
       "        <td style=\"padding-left: 1em; padding-right: 1em; text-align: center; vertical-align: top\">1.0</td>\n",
       "        <td style=\"padding-left: 1em; padding-right: 1em; text-align: center; vertical-align: top\">25000</td>\n",
       "        <td style=\"padding-left: 1em; padding-right: 1em; text-align: center; vertical-align: top\">25000</td>\n",
       "    </tr>\n",
       "    <tr>\n",
       "        <td style=\"padding-left: 1em; padding-right: 1em; text-align: center; vertical-align: top\">0.004</td>\n",
       "        <td style=\"padding-left: 1em; padding-right: 1em; text-align: center; vertical-align: top\">0.08372</td>\n",
       "        <td style=\"padding-left: 1em; padding-right: 1em; text-align: center; vertical-align: top\">1.0</td>\n",
       "        <td style=\"padding-left: 1em; padding-right: 1em; text-align: center; vertical-align: top\">25000</td>\n",
       "        <td style=\"padding-left: 1em; padding-right: 1em; text-align: center; vertical-align: top\">25000</td>\n",
       "    </tr>\n",
       "    <tr>\n",
       "        <td style=\"padding-left: 1em; padding-right: 1em; text-align: center; vertical-align: top\">0.005</td>\n",
       "        <td style=\"padding-left: 1em; padding-right: 1em; text-align: center; vertical-align: top\">0.07624</td>\n",
       "        <td style=\"padding-left: 1em; padding-right: 1em; text-align: center; vertical-align: top\">1.0</td>\n",
       "        <td style=\"padding-left: 1em; padding-right: 1em; text-align: center; vertical-align: top\">25000</td>\n",
       "        <td style=\"padding-left: 1em; padding-right: 1em; text-align: center; vertical-align: top\">25000</td>\n",
       "    </tr>\n",
       "    <tr>\n",
       "        <td style=\"padding-left: 1em; padding-right: 1em; text-align: center; vertical-align: top\">0.006</td>\n",
       "        <td style=\"padding-left: 1em; padding-right: 1em; text-align: center; vertical-align: top\">0.07024</td>\n",
       "        <td style=\"padding-left: 1em; padding-right: 1em; text-align: center; vertical-align: top\">1.0</td>\n",
       "        <td style=\"padding-left: 1em; padding-right: 1em; text-align: center; vertical-align: top\">25000</td>\n",
       "        <td style=\"padding-left: 1em; padding-right: 1em; text-align: center; vertical-align: top\">25000</td>\n",
       "    </tr>\n",
       "    <tr>\n",
       "        <td style=\"padding-left: 1em; padding-right: 1em; text-align: center; vertical-align: top\">0.007</td>\n",
       "        <td style=\"padding-left: 1em; padding-right: 1em; text-align: center; vertical-align: top\">0.06592</td>\n",
       "        <td style=\"padding-left: 1em; padding-right: 1em; text-align: center; vertical-align: top\">1.0</td>\n",
       "        <td style=\"padding-left: 1em; padding-right: 1em; text-align: center; vertical-align: top\">25000</td>\n",
       "        <td style=\"padding-left: 1em; padding-right: 1em; text-align: center; vertical-align: top\">25000</td>\n",
       "    </tr>\n",
       "    <tr>\n",
       "        <td style=\"padding-left: 1em; padding-right: 1em; text-align: center; vertical-align: top\">0.008</td>\n",
       "        <td style=\"padding-left: 1em; padding-right: 1em; text-align: center; vertical-align: top\">0.06172</td>\n",
       "        <td style=\"padding-left: 1em; padding-right: 1em; text-align: center; vertical-align: top\">1.0</td>\n",
       "        <td style=\"padding-left: 1em; padding-right: 1em; text-align: center; vertical-align: top\">25000</td>\n",
       "        <td style=\"padding-left: 1em; padding-right: 1em; text-align: center; vertical-align: top\">25000</td>\n",
       "    </tr>\n",
       "    <tr>\n",
       "        <td style=\"padding-left: 1em; padding-right: 1em; text-align: center; vertical-align: top\">0.009</td>\n",
       "        <td style=\"padding-left: 1em; padding-right: 1em; text-align: center; vertical-align: top\">0.0586</td>\n",
       "        <td style=\"padding-left: 1em; padding-right: 1em; text-align: center; vertical-align: top\">1.0</td>\n",
       "        <td style=\"padding-left: 1em; padding-right: 1em; text-align: center; vertical-align: top\">25000</td>\n",
       "        <td style=\"padding-left: 1em; padding-right: 1em; text-align: center; vertical-align: top\">25000</td>\n",
       "    </tr>\n",
       "</table>\n",
       "[10 rows x 5 columns]<br/>\n",
       "</div>"
      ],
      "text/plain": [
       "Columns:\n",
       "\tthreshold\tfloat\n",
       "\tfpr\tfloat\n",
       "\ttpr\tfloat\n",
       "\tp\tint\n",
       "\tn\tint\n",
       "\n",
       "Rows: 10\n",
       "\n",
       "Data:\n",
       "+-----------+---------+-----+-------+-------+\n",
       "| threshold |   fpr   | tpr |   p   |   n   |\n",
       "+-----------+---------+-----+-------+-------+\n",
       "|    0.0    |   1.0   | 1.0 | 25000 | 25000 |\n",
       "|   0.001   | 0.13568 | 1.0 | 25000 | 25000 |\n",
       "|   0.002   | 0.10732 | 1.0 | 25000 | 25000 |\n",
       "|   0.003   |  0.094  | 1.0 | 25000 | 25000 |\n",
       "|   0.004   | 0.08372 | 1.0 | 25000 | 25000 |\n",
       "|   0.005   | 0.07624 | 1.0 | 25000 | 25000 |\n",
       "|   0.006   | 0.07024 | 1.0 | 25000 | 25000 |\n",
       "|   0.007   | 0.06592 | 1.0 | 25000 | 25000 |\n",
       "|   0.008   | 0.06172 | 1.0 | 25000 | 25000 |\n",
       "|   0.009   |  0.0586 | 1.0 | 25000 | 25000 |\n",
       "+-----------+---------+-----+-------+-------+\n",
       "[10 rows x 5 columns]"
      ]
     },
     "metadata": {},
     "output_type": "display_data"
    },
    {
     "data": {
      "text/html": [
       "<div style=\"max-height:1000px;max-width:1500px;overflow:auto;\"><table frame=\"box\" rules=\"cols\">\n",
       "    <tr>\n",
       "        <th style=\"padding-left: 1em; padding-right: 1em; text-align: center\">threshold</th>\n",
       "        <th style=\"padding-left: 1em; padding-right: 1em; text-align: center\">fpr</th>\n",
       "        <th style=\"padding-left: 1em; padding-right: 1em; text-align: center\">tpr</th>\n",
       "        <th style=\"padding-left: 1em; padding-right: 1em; text-align: center\">p</th>\n",
       "        <th style=\"padding-left: 1em; padding-right: 1em; text-align: center\">n</th>\n",
       "    </tr>\n",
       "    <tr>\n",
       "        <td style=\"padding-left: 1em; padding-right: 1em; text-align: center; vertical-align: top\">0.991</td>\n",
       "        <td style=\"padding-left: 1em; padding-right: 1em; text-align: center; vertical-align: top\">0.0</td>\n",
       "        <td style=\"padding-left: 1em; padding-right: 1em; text-align: center; vertical-align: top\">0.92268</td>\n",
       "        <td style=\"padding-left: 1em; padding-right: 1em; text-align: center; vertical-align: top\">25000</td>\n",
       "        <td style=\"padding-left: 1em; padding-right: 1em; text-align: center; vertical-align: top\">25000</td>\n",
       "    </tr>\n",
       "    <tr>\n",
       "        <td style=\"padding-left: 1em; padding-right: 1em; text-align: center; vertical-align: top\">0.992</td>\n",
       "        <td style=\"padding-left: 1em; padding-right: 1em; text-align: center; vertical-align: top\">0.0</td>\n",
       "        <td style=\"padding-left: 1em; padding-right: 1em; text-align: center; vertical-align: top\">0.91724</td>\n",
       "        <td style=\"padding-left: 1em; padding-right: 1em; text-align: center; vertical-align: top\">25000</td>\n",
       "        <td style=\"padding-left: 1em; padding-right: 1em; text-align: center; vertical-align: top\">25000</td>\n",
       "    </tr>\n",
       "    <tr>\n",
       "        <td style=\"padding-left: 1em; padding-right: 1em; text-align: center; vertical-align: top\">0.993</td>\n",
       "        <td style=\"padding-left: 1em; padding-right: 1em; text-align: center; vertical-align: top\">0.0</td>\n",
       "        <td style=\"padding-left: 1em; padding-right: 1em; text-align: center; vertical-align: top\">0.91132</td>\n",
       "        <td style=\"padding-left: 1em; padding-right: 1em; text-align: center; vertical-align: top\">25000</td>\n",
       "        <td style=\"padding-left: 1em; padding-right: 1em; text-align: center; vertical-align: top\">25000</td>\n",
       "    </tr>\n",
       "    <tr>\n",
       "        <td style=\"padding-left: 1em; padding-right: 1em; text-align: center; vertical-align: top\">0.994</td>\n",
       "        <td style=\"padding-left: 1em; padding-right: 1em; text-align: center; vertical-align: top\">0.0</td>\n",
       "        <td style=\"padding-left: 1em; padding-right: 1em; text-align: center; vertical-align: top\">0.90376</td>\n",
       "        <td style=\"padding-left: 1em; padding-right: 1em; text-align: center; vertical-align: top\">25000</td>\n",
       "        <td style=\"padding-left: 1em; padding-right: 1em; text-align: center; vertical-align: top\">25000</td>\n",
       "    </tr>\n",
       "    <tr>\n",
       "        <td style=\"padding-left: 1em; padding-right: 1em; text-align: center; vertical-align: top\">0.995</td>\n",
       "        <td style=\"padding-left: 1em; padding-right: 1em; text-align: center; vertical-align: top\">0.0</td>\n",
       "        <td style=\"padding-left: 1em; padding-right: 1em; text-align: center; vertical-align: top\">0.8944</td>\n",
       "        <td style=\"padding-left: 1em; padding-right: 1em; text-align: center; vertical-align: top\">25000</td>\n",
       "        <td style=\"padding-left: 1em; padding-right: 1em; text-align: center; vertical-align: top\">25000</td>\n",
       "    </tr>\n",
       "    <tr>\n",
       "        <td style=\"padding-left: 1em; padding-right: 1em; text-align: center; vertical-align: top\">0.996</td>\n",
       "        <td style=\"padding-left: 1em; padding-right: 1em; text-align: center; vertical-align: top\">0.0</td>\n",
       "        <td style=\"padding-left: 1em; padding-right: 1em; text-align: center; vertical-align: top\">0.88272</td>\n",
       "        <td style=\"padding-left: 1em; padding-right: 1em; text-align: center; vertical-align: top\">25000</td>\n",
       "        <td style=\"padding-left: 1em; padding-right: 1em; text-align: center; vertical-align: top\">25000</td>\n",
       "    </tr>\n",
       "    <tr>\n",
       "        <td style=\"padding-left: 1em; padding-right: 1em; text-align: center; vertical-align: top\">0.997</td>\n",
       "        <td style=\"padding-left: 1em; padding-right: 1em; text-align: center; vertical-align: top\">0.0</td>\n",
       "        <td style=\"padding-left: 1em; padding-right: 1em; text-align: center; vertical-align: top\">0.86592</td>\n",
       "        <td style=\"padding-left: 1em; padding-right: 1em; text-align: center; vertical-align: top\">25000</td>\n",
       "        <td style=\"padding-left: 1em; padding-right: 1em; text-align: center; vertical-align: top\">25000</td>\n",
       "    </tr>\n",
       "    <tr>\n",
       "        <td style=\"padding-left: 1em; padding-right: 1em; text-align: center; vertical-align: top\">0.998</td>\n",
       "        <td style=\"padding-left: 1em; padding-right: 1em; text-align: center; vertical-align: top\">0.0</td>\n",
       "        <td style=\"padding-left: 1em; padding-right: 1em; text-align: center; vertical-align: top\">0.83988</td>\n",
       "        <td style=\"padding-left: 1em; padding-right: 1em; text-align: center; vertical-align: top\">25000</td>\n",
       "        <td style=\"padding-left: 1em; padding-right: 1em; text-align: center; vertical-align: top\">25000</td>\n",
       "    </tr>\n",
       "    <tr>\n",
       "        <td style=\"padding-left: 1em; padding-right: 1em; text-align: center; vertical-align: top\">0.999</td>\n",
       "        <td style=\"padding-left: 1em; padding-right: 1em; text-align: center; vertical-align: top\">0.0</td>\n",
       "        <td style=\"padding-left: 1em; padding-right: 1em; text-align: center; vertical-align: top\">0.78936</td>\n",
       "        <td style=\"padding-left: 1em; padding-right: 1em; text-align: center; vertical-align: top\">25000</td>\n",
       "        <td style=\"padding-left: 1em; padding-right: 1em; text-align: center; vertical-align: top\">25000</td>\n",
       "    </tr>\n",
       "    <tr>\n",
       "        <td style=\"padding-left: 1em; padding-right: 1em; text-align: center; vertical-align: top\">1.0</td>\n",
       "        <td style=\"padding-left: 1em; padding-right: 1em; text-align: center; vertical-align: top\">0.0</td>\n",
       "        <td style=\"padding-left: 1em; padding-right: 1em; text-align: center; vertical-align: top\">0.0</td>\n",
       "        <td style=\"padding-left: 1em; padding-right: 1em; text-align: center; vertical-align: top\">25000</td>\n",
       "        <td style=\"padding-left: 1em; padding-right: 1em; text-align: center; vertical-align: top\">25000</td>\n",
       "    </tr>\n",
       "</table>\n",
       "[10 rows x 5 columns]<br/>\n",
       "</div>"
      ],
      "text/plain": [
       "Columns:\n",
       "\tthreshold\tfloat\n",
       "\tfpr\tfloat\n",
       "\ttpr\tfloat\n",
       "\tp\tint\n",
       "\tn\tint\n",
       "\n",
       "Rows: 10\n",
       "\n",
       "Data:\n",
       "+-----------+-----+---------+-------+-------+\n",
       "| threshold | fpr |   tpr   |   p   |   n   |\n",
       "+-----------+-----+---------+-------+-------+\n",
       "|   0.991   | 0.0 | 0.92268 | 25000 | 25000 |\n",
       "|   0.992   | 0.0 | 0.91724 | 25000 | 25000 |\n",
       "|   0.993   | 0.0 | 0.91132 | 25000 | 25000 |\n",
       "|   0.994   | 0.0 | 0.90376 | 25000 | 25000 |\n",
       "|   0.995   | 0.0 |  0.8944 | 25000 | 25000 |\n",
       "|   0.996   | 0.0 | 0.88272 | 25000 | 25000 |\n",
       "|   0.997   | 0.0 | 0.86592 | 25000 | 25000 |\n",
       "|   0.998   | 0.0 | 0.83988 | 25000 | 25000 |\n",
       "|   0.999   | 0.0 | 0.78936 | 25000 | 25000 |\n",
       "|    1.0    | 0.0 |   0.0   | 25000 | 25000 |\n",
       "+-----------+-----+---------+-------+-------+\n",
       "[10 rows x 5 columns]"
      ]
     },
     "metadata": {},
     "output_type": "display_data"
    }
   ],
   "source": [
    "# Calculating the ROC from the model, then printing first and last 10 thresholds\n",
    "roc_data =  tc.evaluation.roc_curve(movies['sentiment'], predictions)\n",
    "display(roc_data.head())\n",
    "display(roc_data.tail())"
   ]
  },
  {
   "cell_type": "code",
   "execution_count": 20,
   "id": "ca7c8bc6",
   "metadata": {},
   "outputs": [
    {
     "data": {
      "text/html": [
       "<div style=\"max-height:1000px;max-width:1500px;overflow:auto;\"><table frame=\"box\" rules=\"cols\">\n",
       "    <tr>\n",
       "        <th style=\"padding-left: 1em; padding-right: 1em; text-align: center\">threshold</th>\n",
       "        <th style=\"padding-left: 1em; padding-right: 1em; text-align: center\">fpr</th>\n",
       "        <th style=\"padding-left: 1em; padding-right: 1em; text-align: center\">tpr</th>\n",
       "        <th style=\"padding-left: 1em; padding-right: 1em; text-align: center\">p</th>\n",
       "        <th style=\"padding-left: 1em; padding-right: 1em; text-align: center\">n</th>\n",
       "    </tr>\n",
       "    <tr>\n",
       "        <td style=\"padding-left: 1em; padding-right: 1em; text-align: center; vertical-align: top\">0.0</td>\n",
       "        <td style=\"padding-left: 1em; padding-right: 1em; text-align: center; vertical-align: top\">1.0</td>\n",
       "        <td style=\"padding-left: 1em; padding-right: 1em; text-align: center; vertical-align: top\">1.0</td>\n",
       "        <td style=\"padding-left: 1em; padding-right: 1em; text-align: center; vertical-align: top\">25000</td>\n",
       "        <td style=\"padding-left: 1em; padding-right: 1em; text-align: center; vertical-align: top\">25000</td>\n",
       "    </tr>\n",
       "    <tr>\n",
       "        <td style=\"padding-left: 1em; padding-right: 1em; text-align: center; vertical-align: top\">0.001</td>\n",
       "        <td style=\"padding-left: 1em; padding-right: 1em; text-align: center; vertical-align: top\">0.99108</td>\n",
       "        <td style=\"padding-left: 1em; padding-right: 1em; text-align: center; vertical-align: top\">1.0</td>\n",
       "        <td style=\"padding-left: 1em; padding-right: 1em; text-align: center; vertical-align: top\">25000</td>\n",
       "        <td style=\"padding-left: 1em; padding-right: 1em; text-align: center; vertical-align: top\">25000</td>\n",
       "    </tr>\n",
       "    <tr>\n",
       "        <td style=\"padding-left: 1em; padding-right: 1em; text-align: center; vertical-align: top\">0.002</td>\n",
       "        <td style=\"padding-left: 1em; padding-right: 1em; text-align: center; vertical-align: top\">0.98584</td>\n",
       "        <td style=\"padding-left: 1em; padding-right: 1em; text-align: center; vertical-align: top\">1.0</td>\n",
       "        <td style=\"padding-left: 1em; padding-right: 1em; text-align: center; vertical-align: top\">25000</td>\n",
       "        <td style=\"padding-left: 1em; padding-right: 1em; text-align: center; vertical-align: top\">25000</td>\n",
       "    </tr>\n",
       "    <tr>\n",
       "        <td style=\"padding-left: 1em; padding-right: 1em; text-align: center; vertical-align: top\">0.003</td>\n",
       "        <td style=\"padding-left: 1em; padding-right: 1em; text-align: center; vertical-align: top\">0.98004</td>\n",
       "        <td style=\"padding-left: 1em; padding-right: 1em; text-align: center; vertical-align: top\">1.0</td>\n",
       "        <td style=\"padding-left: 1em; padding-right: 1em; text-align: center; vertical-align: top\">25000</td>\n",
       "        <td style=\"padding-left: 1em; padding-right: 1em; text-align: center; vertical-align: top\">25000</td>\n",
       "    </tr>\n",
       "    <tr>\n",
       "        <td style=\"padding-left: 1em; padding-right: 1em; text-align: center; vertical-align: top\">0.004</td>\n",
       "        <td style=\"padding-left: 1em; padding-right: 1em; text-align: center; vertical-align: top\">0.97444</td>\n",
       "        <td style=\"padding-left: 1em; padding-right: 1em; text-align: center; vertical-align: top\">1.0</td>\n",
       "        <td style=\"padding-left: 1em; padding-right: 1em; text-align: center; vertical-align: top\">25000</td>\n",
       "        <td style=\"padding-left: 1em; padding-right: 1em; text-align: center; vertical-align: top\">25000</td>\n",
       "    </tr>\n",
       "    <tr>\n",
       "        <td style=\"padding-left: 1em; padding-right: 1em; text-align: center; vertical-align: top\">0.005</td>\n",
       "        <td style=\"padding-left: 1em; padding-right: 1em; text-align: center; vertical-align: top\">0.97</td>\n",
       "        <td style=\"padding-left: 1em; padding-right: 1em; text-align: center; vertical-align: top\">1.0</td>\n",
       "        <td style=\"padding-left: 1em; padding-right: 1em; text-align: center; vertical-align: top\">25000</td>\n",
       "        <td style=\"padding-left: 1em; padding-right: 1em; text-align: center; vertical-align: top\">25000</td>\n",
       "    </tr>\n",
       "    <tr>\n",
       "        <td style=\"padding-left: 1em; padding-right: 1em; text-align: center; vertical-align: top\">0.006</td>\n",
       "        <td style=\"padding-left: 1em; padding-right: 1em; text-align: center; vertical-align: top\">0.96604</td>\n",
       "        <td style=\"padding-left: 1em; padding-right: 1em; text-align: center; vertical-align: top\">1.0</td>\n",
       "        <td style=\"padding-left: 1em; padding-right: 1em; text-align: center; vertical-align: top\">25000</td>\n",
       "        <td style=\"padding-left: 1em; padding-right: 1em; text-align: center; vertical-align: top\">25000</td>\n",
       "    </tr>\n",
       "    <tr>\n",
       "        <td style=\"padding-left: 1em; padding-right: 1em; text-align: center; vertical-align: top\">0.007</td>\n",
       "        <td style=\"padding-left: 1em; padding-right: 1em; text-align: center; vertical-align: top\">0.96092</td>\n",
       "        <td style=\"padding-left: 1em; padding-right: 1em; text-align: center; vertical-align: top\">1.0</td>\n",
       "        <td style=\"padding-left: 1em; padding-right: 1em; text-align: center; vertical-align: top\">25000</td>\n",
       "        <td style=\"padding-left: 1em; padding-right: 1em; text-align: center; vertical-align: top\">25000</td>\n",
       "    </tr>\n",
       "    <tr>\n",
       "        <td style=\"padding-left: 1em; padding-right: 1em; text-align: center; vertical-align: top\">0.008</td>\n",
       "        <td style=\"padding-left: 1em; padding-right: 1em; text-align: center; vertical-align: top\">0.95596</td>\n",
       "        <td style=\"padding-left: 1em; padding-right: 1em; text-align: center; vertical-align: top\">1.0</td>\n",
       "        <td style=\"padding-left: 1em; padding-right: 1em; text-align: center; vertical-align: top\">25000</td>\n",
       "        <td style=\"padding-left: 1em; padding-right: 1em; text-align: center; vertical-align: top\">25000</td>\n",
       "    </tr>\n",
       "    <tr>\n",
       "        <td style=\"padding-left: 1em; padding-right: 1em; text-align: center; vertical-align: top\">0.009</td>\n",
       "        <td style=\"padding-left: 1em; padding-right: 1em; text-align: center; vertical-align: top\">0.95172</td>\n",
       "        <td style=\"padding-left: 1em; padding-right: 1em; text-align: center; vertical-align: top\">1.0</td>\n",
       "        <td style=\"padding-left: 1em; padding-right: 1em; text-align: center; vertical-align: top\">25000</td>\n",
       "        <td style=\"padding-left: 1em; padding-right: 1em; text-align: center; vertical-align: top\">25000</td>\n",
       "    </tr>\n",
       "</table>\n",
       "[10 rows x 5 columns]<br/>\n",
       "</div>"
      ],
      "text/plain": [
       "Columns:\n",
       "\tthreshold\tfloat\n",
       "\tfpr\tfloat\n",
       "\ttpr\tfloat\n",
       "\tp\tint\n",
       "\tn\tint\n",
       "\n",
       "Rows: 10\n",
       "\n",
       "Data:\n",
       "+-----------+---------+-----+-------+-------+\n",
       "| threshold |   fpr   | tpr |   p   |   n   |\n",
       "+-----------+---------+-----+-------+-------+\n",
       "|    0.0    |   1.0   | 1.0 | 25000 | 25000 |\n",
       "|   0.001   | 0.99108 | 1.0 | 25000 | 25000 |\n",
       "|   0.002   | 0.98584 | 1.0 | 25000 | 25000 |\n",
       "|   0.003   | 0.98004 | 1.0 | 25000 | 25000 |\n",
       "|   0.004   | 0.97444 | 1.0 | 25000 | 25000 |\n",
       "|   0.005   |   0.97  | 1.0 | 25000 | 25000 |\n",
       "|   0.006   | 0.96604 | 1.0 | 25000 | 25000 |\n",
       "|   0.007   | 0.96092 | 1.0 | 25000 | 25000 |\n",
       "|   0.008   | 0.95596 | 1.0 | 25000 | 25000 |\n",
       "|   0.009   | 0.95172 | 1.0 | 25000 | 25000 |\n",
       "+-----------+---------+-----+-------+-------+\n",
       "[10 rows x 5 columns]"
      ]
     },
     "metadata": {},
     "output_type": "display_data"
    },
    {
     "data": {
      "text/html": [
       "<div style=\"max-height:1000px;max-width:1500px;overflow:auto;\"><table frame=\"box\" rules=\"cols\">\n",
       "    <tr>\n",
       "        <th style=\"padding-left: 1em; padding-right: 1em; text-align: center\">threshold</th>\n",
       "        <th style=\"padding-left: 1em; padding-right: 1em; text-align: center\">fpr</th>\n",
       "        <th style=\"padding-left: 1em; padding-right: 1em; text-align: center\">tpr</th>\n",
       "        <th style=\"padding-left: 1em; padding-right: 1em; text-align: center\">p</th>\n",
       "        <th style=\"padding-left: 1em; padding-right: 1em; text-align: center\">n</th>\n",
       "    </tr>\n",
       "    <tr>\n",
       "        <td style=\"padding-left: 1em; padding-right: 1em; text-align: center; vertical-align: top\">0.991</td>\n",
       "        <td style=\"padding-left: 1em; padding-right: 1em; text-align: center; vertical-align: top\">0.0</td>\n",
       "        <td style=\"padding-left: 1em; padding-right: 1em; text-align: center; vertical-align: top\">0.05344</td>\n",
       "        <td style=\"padding-left: 1em; padding-right: 1em; text-align: center; vertical-align: top\">25000</td>\n",
       "        <td style=\"padding-left: 1em; padding-right: 1em; text-align: center; vertical-align: top\">25000</td>\n",
       "    </tr>\n",
       "    <tr>\n",
       "        <td style=\"padding-left: 1em; padding-right: 1em; text-align: center; vertical-align: top\">0.992</td>\n",
       "        <td style=\"padding-left: 1em; padding-right: 1em; text-align: center; vertical-align: top\">0.0</td>\n",
       "        <td style=\"padding-left: 1em; padding-right: 1em; text-align: center; vertical-align: top\">0.0486</td>\n",
       "        <td style=\"padding-left: 1em; padding-right: 1em; text-align: center; vertical-align: top\">25000</td>\n",
       "        <td style=\"padding-left: 1em; padding-right: 1em; text-align: center; vertical-align: top\">25000</td>\n",
       "    </tr>\n",
       "    <tr>\n",
       "        <td style=\"padding-left: 1em; padding-right: 1em; text-align: center; vertical-align: top\">0.993</td>\n",
       "        <td style=\"padding-left: 1em; padding-right: 1em; text-align: center; vertical-align: top\">0.0</td>\n",
       "        <td style=\"padding-left: 1em; padding-right: 1em; text-align: center; vertical-align: top\">0.04432</td>\n",
       "        <td style=\"padding-left: 1em; padding-right: 1em; text-align: center; vertical-align: top\">25000</td>\n",
       "        <td style=\"padding-left: 1em; padding-right: 1em; text-align: center; vertical-align: top\">25000</td>\n",
       "    </tr>\n",
       "    <tr>\n",
       "        <td style=\"padding-left: 1em; padding-right: 1em; text-align: center; vertical-align: top\">0.994</td>\n",
       "        <td style=\"padding-left: 1em; padding-right: 1em; text-align: center; vertical-align: top\">0.0</td>\n",
       "        <td style=\"padding-left: 1em; padding-right: 1em; text-align: center; vertical-align: top\">0.03924</td>\n",
       "        <td style=\"padding-left: 1em; padding-right: 1em; text-align: center; vertical-align: top\">25000</td>\n",
       "        <td style=\"padding-left: 1em; padding-right: 1em; text-align: center; vertical-align: top\">25000</td>\n",
       "    </tr>\n",
       "    <tr>\n",
       "        <td style=\"padding-left: 1em; padding-right: 1em; text-align: center; vertical-align: top\">0.995</td>\n",
       "        <td style=\"padding-left: 1em; padding-right: 1em; text-align: center; vertical-align: top\">0.0</td>\n",
       "        <td style=\"padding-left: 1em; padding-right: 1em; text-align: center; vertical-align: top\">0.03456</td>\n",
       "        <td style=\"padding-left: 1em; padding-right: 1em; text-align: center; vertical-align: top\">25000</td>\n",
       "        <td style=\"padding-left: 1em; padding-right: 1em; text-align: center; vertical-align: top\">25000</td>\n",
       "    </tr>\n",
       "    <tr>\n",
       "        <td style=\"padding-left: 1em; padding-right: 1em; text-align: center; vertical-align: top\">0.996</td>\n",
       "        <td style=\"padding-left: 1em; padding-right: 1em; text-align: center; vertical-align: top\">0.0</td>\n",
       "        <td style=\"padding-left: 1em; padding-right: 1em; text-align: center; vertical-align: top\">0.0288</td>\n",
       "        <td style=\"padding-left: 1em; padding-right: 1em; text-align: center; vertical-align: top\">25000</td>\n",
       "        <td style=\"padding-left: 1em; padding-right: 1em; text-align: center; vertical-align: top\">25000</td>\n",
       "    </tr>\n",
       "    <tr>\n",
       "        <td style=\"padding-left: 1em; padding-right: 1em; text-align: center; vertical-align: top\">0.997</td>\n",
       "        <td style=\"padding-left: 1em; padding-right: 1em; text-align: center; vertical-align: top\">0.0</td>\n",
       "        <td style=\"padding-left: 1em; padding-right: 1em; text-align: center; vertical-align: top\">0.024</td>\n",
       "        <td style=\"padding-left: 1em; padding-right: 1em; text-align: center; vertical-align: top\">25000</td>\n",
       "        <td style=\"padding-left: 1em; padding-right: 1em; text-align: center; vertical-align: top\">25000</td>\n",
       "    </tr>\n",
       "    <tr>\n",
       "        <td style=\"padding-left: 1em; padding-right: 1em; text-align: center; vertical-align: top\">0.998</td>\n",
       "        <td style=\"padding-left: 1em; padding-right: 1em; text-align: center; vertical-align: top\">0.0</td>\n",
       "        <td style=\"padding-left: 1em; padding-right: 1em; text-align: center; vertical-align: top\">0.01828</td>\n",
       "        <td style=\"padding-left: 1em; padding-right: 1em; text-align: center; vertical-align: top\">25000</td>\n",
       "        <td style=\"padding-left: 1em; padding-right: 1em; text-align: center; vertical-align: top\">25000</td>\n",
       "    </tr>\n",
       "    <tr>\n",
       "        <td style=\"padding-left: 1em; padding-right: 1em; text-align: center; vertical-align: top\">0.999</td>\n",
       "        <td style=\"padding-left: 1em; padding-right: 1em; text-align: center; vertical-align: top\">0.0</td>\n",
       "        <td style=\"padding-left: 1em; padding-right: 1em; text-align: center; vertical-align: top\">0.01204</td>\n",
       "        <td style=\"padding-left: 1em; padding-right: 1em; text-align: center; vertical-align: top\">25000</td>\n",
       "        <td style=\"padding-left: 1em; padding-right: 1em; text-align: center; vertical-align: top\">25000</td>\n",
       "    </tr>\n",
       "    <tr>\n",
       "        <td style=\"padding-left: 1em; padding-right: 1em; text-align: center; vertical-align: top\">1.0</td>\n",
       "        <td style=\"padding-left: 1em; padding-right: 1em; text-align: center; vertical-align: top\">0.0</td>\n",
       "        <td style=\"padding-left: 1em; padding-right: 1em; text-align: center; vertical-align: top\">0.0</td>\n",
       "        <td style=\"padding-left: 1em; padding-right: 1em; text-align: center; vertical-align: top\">25000</td>\n",
       "        <td style=\"padding-left: 1em; padding-right: 1em; text-align: center; vertical-align: top\">25000</td>\n",
       "    </tr>\n",
       "</table>\n",
       "[10 rows x 5 columns]<br/>\n",
       "</div>"
      ],
      "text/plain": [
       "Columns:\n",
       "\tthreshold\tfloat\n",
       "\tfpr\tfloat\n",
       "\ttpr\tfloat\n",
       "\tp\tint\n",
       "\tn\tint\n",
       "\n",
       "Rows: 10\n",
       "\n",
       "Data:\n",
       "+-----------+-----+---------+-------+-------+\n",
       "| threshold | fpr |   tpr   |   p   |   n   |\n",
       "+-----------+-----+---------+-------+-------+\n",
       "|   0.991   | 0.0 | 0.05344 | 25000 | 25000 |\n",
       "|   0.992   | 0.0 |  0.0486 | 25000 | 25000 |\n",
       "|   0.993   | 0.0 | 0.04432 | 25000 | 25000 |\n",
       "|   0.994   | 0.0 | 0.03924 | 25000 | 25000 |\n",
       "|   0.995   | 0.0 | 0.03456 | 25000 | 25000 |\n",
       "|   0.996   | 0.0 |  0.0288 | 25000 | 25000 |\n",
       "|   0.997   | 0.0 |  0.024  | 25000 | 25000 |\n",
       "|   0.998   | 0.0 | 0.01828 | 25000 | 25000 |\n",
       "|   0.999   | 0.0 | 0.01204 | 25000 | 25000 |\n",
       "|    1.0    | 0.0 |   0.0   | 25000 | 25000 |\n",
       "+-----------+-----+---------+-------+-------+\n",
       "[10 rows x 5 columns]"
      ]
     },
     "metadata": {},
     "output_type": "display_data"
    }
   ],
   "source": [
    "# Calculating the ROC from the hyperparamter model, then printing first and last 10 thresholds\n",
    "roc_data_hyper =  tc.evaluation.roc_curve(movies['sentiment'], predictions_hyper)\n",
    "display(roc_data_hyper.head())\n",
    "display(roc_data_hyper.tail())"
   ]
  },
  {
   "cell_type": "code",
   "execution_count": 21,
   "id": "39e64c6d",
   "metadata": {},
   "outputs": [],
   "source": [
    "# Using calculated ROC to make to lists of values, one for TPR and other for FPR, with model predictions\n",
    "roc_x = roc_data['tpr']\n",
    "roc_y = 1 - roc_data['fpr']"
   ]
  },
  {
   "cell_type": "code",
   "execution_count": 22,
   "id": "589c260e",
   "metadata": {},
   "outputs": [],
   "source": [
    "# Using calculated ROC to make to lists of values, one for TPR and other for FPR, with hyperparameter model\n",
    "roc_x_hyper = roc_data_hyper['tpr']\n",
    "roc_y_hyper = 1 - roc_data_hyper['fpr']"
   ]
  },
  {
   "cell_type": "code",
   "execution_count": 23,
   "id": "69f14b72",
   "metadata": {
    "scrolled": false
   },
   "outputs": [
    {
     "data": {
      "text/plain": [
       "[<matplotlib.lines.Line2D at 0x78ab54e6a910>]"
      ]
     },
     "execution_count": 23,
     "metadata": {},
     "output_type": "execute_result"
    },
    {
     "data": {
      "image/png": "[encoded data removed]",
      "text/plain": [
       "<Figure size 640x480 with 1 Axes>"
      ]
     },
     "metadata": {},
     "output_type": "display_data"
    }
   ],
   "source": [
    "# Given TPR list and FPR list, plot a graph with them, model\n",
    "plt.plot(roc_x, roc_y)"
   ]
  },
  {
   "cell_type": "code",
   "execution_count": 24,
   "id": "3409922f",
   "metadata": {},
   "outputs": [
    {
     "data": {
      "text/plain": [
       "[<matplotlib.lines.Line2D at 0x78ab546e08d0>]"
      ]
     },
     "execution_count": 24,
     "metadata": {},
     "output_type": "execute_result"
    },
    {
     "data": {
      "image/png": "[encoded data removed]",
      "text/plain": [
       "<Figure size 640x480 with 1 Axes>"
      ]
     },
     "metadata": {},
     "output_type": "display_data"
    }
   ],
   "source": [
    "# Given TPR list and FPR list, plot a graph with them, hyperparameter model\n",
    "plt.plot(roc_x_hyper, roc_y_hyper)"
   ]
  },
  {
   "cell_type": "code",
   "execution_count": 25,
   "id": "fb9e222c",
   "metadata": {},
   "outputs": [
    {
     "data": {
      "text/plain": [
       "0.9999768608000003"
      ]
     },
     "execution_count": 25,
     "metadata": {},
     "output_type": "execute_result"
    }
   ],
   "source": [
    "# Calculate the area under the curve for the model\n",
    "auc =  tc.evaluation.auc(movies['sentiment'], predictions)\n",
    "auc"
   ]
  },
  {
   "cell_type": "code",
   "execution_count": 26,
   "id": "1e59fc38",
   "metadata": {},
   "outputs": [
    {
     "data": {
      "text/plain": [
       "0.9974649272000004"
      ]
     },
     "execution_count": 26,
     "metadata": {},
     "output_type": "execute_result"
    }
   ],
   "source": [
    "# Calculate the area under the curve for the hyperparameter model\n",
    "auc_hyper =  tc.evaluation.auc(movies['sentiment'], predictions_hyper)\n",
    "auc_hyper"
   ]
  },
  {
   "cell_type": "markdown",
   "id": "0a0e24b2",
   "metadata": {},
   "source": [
    "### Both models had quite similar results, but we can see by the results that the model performs a bit better than hyperparameters model. The confusion matrix gives it clearly because false positives and false negatives values are slightly lower in the model. "
   ]
  },
  {
   "cell_type": "code",
   "execution_count": 31,
   "id": "c0272e74",
   "metadata": {},
   "outputs": [
    {
     "name": "stdout",
     "output_type": "stream",
     "text": [
      "Test accuracy: 0.9971836652584993\n"
     ]
    }
   ],
   "source": [
    "# Evaluating the testing accuracy from the splitted test data, to compare with model's results\n",
    "test_accuracy = model.evaluate(test_data)['accuracy']\n",
    "print(\"Test accuracy:\", test_accuracy)"
   ]
  },
  {
   "cell_type": "code",
   "execution_count": 32,
   "id": "b462bbd0",
   "metadata": {},
   "outputs": [
    {
     "name": "stdout",
     "output_type": "stream",
     "text": [
      "+--------------+-----------------+-------+\n",
      "| target_label | predicted_label | count |\n",
      "+--------------+-----------------+-------+\n",
      "|   negative   |     negative    |  2491 |\n",
      "|   positive   |     positive    |  2466 |\n",
      "|   positive   |     negative    |   6   |\n",
      "|   negative   |     positive    |   8   |\n",
      "+--------------+-----------------+-------+\n",
      "[4 rows x 3 columns]\n",
      "\n"
     ]
    }
   ],
   "source": [
    "# Creating a confusion matrix from the test data\n",
    "confusion_matrix_test = model.evaluate(test_data)['confusion_matrix']\n",
    "print(confusion_matrix_test)"
   ]
  },
  {
   "cell_type": "code",
   "execution_count": 29,
   "id": "50b8b2f0",
   "metadata": {},
   "outputs": [
    {
     "name": "stdout",
     "output_type": "stream",
     "text": [
      "Precision test data: 0.9967663702506063\n",
      "Recall test data: 0.9975728155339806\n"
     ]
    }
   ],
   "source": [
    "# Creating a testing data evaluation, for the model\n",
    "test_model = model.evaluate(test_data)\n",
    "# Getting the model precision for the test data\n",
    "test_precision = test_model['precision']\n",
    "# Getting the model recall for the test data\n",
    "test_recall = test_model['recall']\n",
    "print('Precision test data:', test_precision)\n",
    "print('Recall test data:', test_recall)"
   ]
  },
  {
   "cell_type": "code",
   "execution_count": 30,
   "id": "511c2ddf",
   "metadata": {},
   "outputs": [
    {
     "data": {
      "text/plain": [
       "0.9975648245311887"
      ]
     },
     "execution_count": 30,
     "metadata": {},
     "output_type": "execute_result"
    }
   ],
   "source": [
    "# Giving beta a value to calculate the Fbeta score\n",
    "b = 10\n",
    "# Using test data precision and recall to calculate the Fbeta score\n",
    "f_test = (1 + b**2) * (test_precision * test_recall) / ((b**2 * test_precision) + test_recall)\n",
    "f_test"
   ]
  },
  {
   "cell_type": "code",
   "execution_count": null,
   "id": "00bab67e",
   "metadata": {},
   "outputs": [],
   "source": []
  }
 ],
 "metadata": {
  "kernelspec": {
   "display_name": "Python 3 (ipykernel)",
   "language": "python",
   "name": "python3"
  },
  "language_info": {
   "codemirror_mode": {
    "name": "ipython",
    "version": 3
   },
   "file_extension": ".py",
   "mimetype": "text/x-python",
   "name": "python",
   "nbconvert_exporter": "python",
   "pygments_lexer": "ipython3",
   "version": "3.7.17"
  }
 },
 "nbformat": 4,
 "nbformat_minor": 5
}
